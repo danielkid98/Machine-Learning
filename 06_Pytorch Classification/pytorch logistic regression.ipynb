{
 "cells": [
  {
   "cell_type": "code",
   "execution_count": 1,
   "metadata": {},
   "outputs": [],
   "source": [
    "import pandas as pd\n",
    "data = pd.read_csv('Diabetes_Data.csv')"
   ]
  },
  {
   "cell_type": "code",
   "execution_count": 2,
   "metadata": {},
   "outputs": [
    {
     "data": {
      "text/html": [
       "<div>\n",
       "<style scoped>\n",
       "    .dataframe tbody tr th:only-of-type {\n",
       "        vertical-align: middle;\n",
       "    }\n",
       "\n",
       "    .dataframe tbody tr th {\n",
       "        vertical-align: top;\n",
       "    }\n",
       "\n",
       "    .dataframe thead th {\n",
       "        text-align: right;\n",
       "    }\n",
       "</style>\n",
       "<table border=\"1\" class=\"dataframe\">\n",
       "  <thead>\n",
       "    <tr style=\"text-align: right;\">\n",
       "      <th></th>\n",
       "      <th>Age</th>\n",
       "      <th>Weight</th>\n",
       "      <th>BloodSugar</th>\n",
       "      <th>Gender</th>\n",
       "      <th>Diabetes</th>\n",
       "    </tr>\n",
       "  </thead>\n",
       "  <tbody>\n",
       "    <tr>\n",
       "      <th>0</th>\n",
       "      <td>25</td>\n",
       "      <td>119</td>\n",
       "      <td>130.8</td>\n",
       "      <td>1</td>\n",
       "      <td>1</td>\n",
       "    </tr>\n",
       "    <tr>\n",
       "      <th>1</th>\n",
       "      <td>66</td>\n",
       "      <td>102</td>\n",
       "      <td>128.1</td>\n",
       "      <td>0</td>\n",
       "      <td>1</td>\n",
       "    </tr>\n",
       "    <tr>\n",
       "      <th>2</th>\n",
       "      <td>59</td>\n",
       "      <td>65</td>\n",
       "      <td>103.9</td>\n",
       "      <td>1</td>\n",
       "      <td>0</td>\n",
       "    </tr>\n",
       "    <tr>\n",
       "      <th>3</th>\n",
       "      <td>46</td>\n",
       "      <td>117</td>\n",
       "      <td>94.8</td>\n",
       "      <td>0</td>\n",
       "      <td>0</td>\n",
       "    </tr>\n",
       "    <tr>\n",
       "      <th>4</th>\n",
       "      <td>45</td>\n",
       "      <td>79</td>\n",
       "      <td>57.8</td>\n",
       "      <td>1</td>\n",
       "      <td>0</td>\n",
       "    </tr>\n",
       "    <tr>\n",
       "      <th>...</th>\n",
       "      <td>...</td>\n",
       "      <td>...</td>\n",
       "      <td>...</td>\n",
       "      <td>...</td>\n",
       "      <td>...</td>\n",
       "    </tr>\n",
       "    <tr>\n",
       "      <th>395</th>\n",
       "      <td>72</td>\n",
       "      <td>63</td>\n",
       "      <td>97.1</td>\n",
       "      <td>0</td>\n",
       "      <td>0</td>\n",
       "    </tr>\n",
       "    <tr>\n",
       "      <th>396</th>\n",
       "      <td>22</td>\n",
       "      <td>117</td>\n",
       "      <td>156.7</td>\n",
       "      <td>0</td>\n",
       "      <td>1</td>\n",
       "    </tr>\n",
       "    <tr>\n",
       "      <th>397</th>\n",
       "      <td>31</td>\n",
       "      <td>76</td>\n",
       "      <td>119.0</td>\n",
       "      <td>1</td>\n",
       "      <td>0</td>\n",
       "    </tr>\n",
       "    <tr>\n",
       "      <th>398</th>\n",
       "      <td>36</td>\n",
       "      <td>65</td>\n",
       "      <td>96.3</td>\n",
       "      <td>0</td>\n",
       "      <td>1</td>\n",
       "    </tr>\n",
       "    <tr>\n",
       "      <th>399</th>\n",
       "      <td>38</td>\n",
       "      <td>75</td>\n",
       "      <td>106.3</td>\n",
       "      <td>1</td>\n",
       "      <td>0</td>\n",
       "    </tr>\n",
       "  </tbody>\n",
       "</table>\n",
       "<p>400 rows × 5 columns</p>\n",
       "</div>"
      ],
      "text/plain": [
       "     Age  Weight  BloodSugar  Gender  Diabetes\n",
       "0     25     119       130.8       1         1\n",
       "1     66     102       128.1       0         1\n",
       "2     59      65       103.9       1         0\n",
       "3     46     117        94.8       0         0\n",
       "4     45      79        57.8       1         0\n",
       "..   ...     ...         ...     ...       ...\n",
       "395   72      63        97.1       0         0\n",
       "396   22     117       156.7       0         1\n",
       "397   31      76       119.0       1         0\n",
       "398   36      65        96.3       0         1\n",
       "399   38      75       106.3       1         0\n",
       "\n",
       "[400 rows x 5 columns]"
      ]
     },
     "execution_count": 2,
     "metadata": {},
     "output_type": "execute_result"
    }
   ],
   "source": [
    "data[\"Gender\"] = data[\"Gender\"].map({\"男生\": 1, \"女生\": 0})\n",
    "data"
   ]
  },
  {
   "cell_type": "code",
   "execution_count": 3,
   "metadata": {},
   "outputs": [],
   "source": [
    "from sklearn.model_selection import train_test_split\n",
    "x = data[[\"Age\", \"Weight\", \"BloodSugar\", \"Gender\"]]\n",
    "y = data[\"Diabetes\"]\n",
    "\n",
    "x_train, x_test, y_train, y_test = train_test_split(x, y, test_size=0.2, random_state=87)\n",
    "x_train = x_train.to_numpy()\n",
    "x_test = x_test.to_numpy()\n",
    "y_train = y_train.to_numpy()\n",
    "y_test = y_test.to_numpy()"
   ]
  },
  {
   "cell_type": "code",
   "execution_count": 4,
   "metadata": {},
   "outputs": [],
   "source": [
    "from sklearn.preprocessing import StandardScaler\n",
    "\n",
    "scaler = StandardScaler()\n",
    "scaler.fit(x_train)\n",
    "x_train = scaler.transform(x_train)\n",
    "x_test = scaler.transform(x_test)"
   ]
  },
  {
   "cell_type": "code",
   "execution_count": 5,
   "metadata": {},
   "outputs": [
    {
     "data": {
      "text/plain": [
       "'cpu'"
      ]
     },
     "execution_count": 5,
     "metadata": {},
     "output_type": "execute_result"
    }
   ],
   "source": [
    "import torch\n",
    "device = \"cuda\" if torch.cuda.is_available() else \"cpu\"\n",
    "device"
   ]
  },
  {
   "cell_type": "code",
   "execution_count": 6,
   "metadata": {},
   "outputs": [],
   "source": [
    "x_train = torch.from_numpy(x_train)\n",
    "x_test = torch.from_numpy(x_test)\n",
    "y_train = torch.from_numpy(y_train)\n",
    "y_test = torch.from_numpy(y_test)\n",
    "\n",
    "x_train = x_train.to(device)\n",
    "x_test = x_test.to(device)\n",
    "y_train = y_train.to(device)\n",
    "y_test = y_test.to(device)"
   ]
  },
  {
   "cell_type": "code",
   "execution_count": 7,
   "metadata": {},
   "outputs": [],
   "source": [
    "from torch import nn\n",
    "\n",
    "class LogisticRegressionModel(nn.Module):\n",
    "    def __init__(self):\n",
    "        super().__init__()\n",
    "        self.linear_layer = nn.Linear(in_features=4, out_features=1, dtype=torch.float64)\n",
    "        self.sigmoid = nn.Sigmoid()\n",
    "\n",
    "    def forward(self, x):\n",
    "        return self.sigmoid(self.linear_layer(x))"
   ]
  },
  {
   "cell_type": "code",
   "execution_count": 8,
   "metadata": {},
   "outputs": [
    {
     "data": {
      "text/plain": [
       "(LogisticRegressionModel(\n",
       "   (linear_layer): Linear(in_features=4, out_features=1, bias=True)\n",
       "   (sigmoid): Sigmoid()\n",
       " ),\n",
       " OrderedDict([('linear_layer.weight',\n",
       "               tensor([[-0.4710,  0.1380, -0.1459, -0.1397]], dtype=torch.float64)),\n",
       "              ('linear_layer.bias', tensor([-0.4544], dtype=torch.float64))]))"
      ]
     },
     "execution_count": 8,
     "metadata": {},
     "output_type": "execute_result"
    }
   ],
   "source": [
    "torch.manual_seed(87)\n",
    "model = LogisticRegressionModel()\n",
    "model = model.to(device)\n",
    "model, model.state_dict()"
   ]
  },
  {
   "cell_type": "code",
   "execution_count": 9,
   "metadata": {},
   "outputs": [
    {
     "data": {
      "text/plain": [
       "(torch.float64, torch.float64, torch.float64)"
      ]
     },
     "execution_count": 9,
     "metadata": {},
     "output_type": "execute_result"
    }
   ],
   "source": [
    "x_train.dtype, model.linear_layer.weight.dtype, model.linear_layer.bias.dtype"
   ]
  },
  {
   "cell_type": "code",
   "execution_count": 10,
   "metadata": {},
   "outputs": [],
   "source": [
    "y_train = y_train.reshape(-1, 1)#-1代表自動調整\n",
    "y_test = y_test.reshape(-1, 1)\n",
    "y_train = y_train.type(torch.double)\n",
    "y_test = y_test.type(torch.double)\n",
    "\n",
    "# 要記得先進行資料轉換，以免發生錯誤"
   ]
  },
  {
   "cell_type": "code",
   "execution_count": 11,
   "metadata": {},
   "outputs": [
    {
     "name": "stdout",
     "output_type": "stream",
     "text": [
      "OrderedDict([('linear_layer.weight', tensor([[-0.4710,  0.1380, -0.1459, -0.1397]], dtype=torch.float64)), ('linear_layer.bias', tensor([-0.4544], dtype=torch.float64))])\n",
      "tensor(0.7056, dtype=torch.float64, grad_fn=<BinaryCrossEntropyBackward0>)\n",
      "\n",
      "\n",
      "OrderedDict([('linear_layer.weight', tensor([[-0.4697,  0.1394, -0.1422, -0.1394]], dtype=torch.float64)), ('linear_layer.bias', tensor([-0.4552], dtype=torch.float64))])\n",
      "tensor(0.7038, dtype=torch.float64, grad_fn=<BinaryCrossEntropyBackward0>)\n"
     ]
    }
   ],
   "source": [
    "cost_function = nn.BCELoss()\n",
    "y_pred = model(x_train)\n",
    "cost = cost_function(y_pred, y_train)\n",
    "print(model.state_dict())\n",
    "print(cost)\n",
    "print('\\n')\n",
    "\n",
    "optimizer = torch.optim.SGD(params=model.parameters(), lr=0.01)\n",
    "optimizer.zero_grad()\n",
    "cost.backward()\n",
    "optimizer.step()\n",
    "\n",
    "y_pred = model(x_train)\n",
    "cost = cost_function(y_pred, y_train)\n",
    "print(model.state_dict())\n",
    "print(cost)"
   ]
  },
  {
   "cell_type": "code",
   "execution_count": 12,
   "metadata": {},
   "outputs": [
    {
     "name": "stdout",
     "output_type": "stream",
     "text": [
      "Epoch:     0, Train Acc: 54.6875%, Test Acc: 51.25%\n",
      "Epoch:  1000, Train Acc: 88.4375%, Test Acc:  85.0%\n",
      "Epoch:  2000, Train Acc:   88.75%, Test Acc:  85.0%\n",
      "Epoch:  3000, Train Acc:    90.0%, Test Acc:  85.0%\n",
      "Epoch:  4000, Train Acc: 89.6875%, Test Acc:  85.0%\n",
      "Epoch:  5000, Train Acc: 89.6875%, Test Acc: 86.25%\n",
      "Epoch:  6000, Train Acc: 89.6875%, Test Acc: 88.75%\n",
      "Epoch:  7000, Train Acc: 89.6875%, Test Acc: 88.75%\n",
      "Epoch:  8000, Train Acc:  89.375%, Test Acc: 88.75%\n",
      "Epoch:  9000, Train Acc:  89.375%, Test Acc:  90.0%\n",
      "Epoch: 10000, Train Acc: 89.0625%, Test Acc:  90.0%\n"
     ]
    }
   ],
   "source": [
    "epochs = 10000\n",
    "\n",
    "train_cost_hist = []\n",
    "test_cost_hist = []\n",
    "train_acc_hist = []\n",
    "test_acc_hist = []\n",
    "\n",
    "for epoch in range(epochs + 1):\n",
    "\n",
    "    model.train()\n",
    "\n",
    "    y_pred = model(x_train)\n",
    "\n",
    "    train_cost = cost_function(y_pred, y_train)\n",
    "    train_cost_hist.append(train_cost.detach().numpy())\n",
    "\n",
    "    train_acc = (torch.round(y_pred)==y_train).sum() / len(y_train) * 100\n",
    "    #torch.round做四捨五入\n",
    "    train_acc_hist.append(train_acc.detach().numpy())\n",
    "\n",
    "    optimizer.zero_grad()\n",
    "    train_cost.backward()\n",
    "    optimizer.step()\n",
    "    \n",
    "    model.eval()\n",
    "    with torch.inference_mode():\n",
    "        test_pred = model(x_test)\n",
    "        test_cost = cost_function(test_pred, y_test)\n",
    "        test_cost_hist.append(test_cost.numpy())\n",
    "\n",
    "        test_acc = (torch.round(test_pred)==y_test).sum() / len(y_test) * 100\n",
    "        test_acc_hist.append(test_acc.numpy())\n",
    "\n",
    "    if epoch%1000==0:\n",
    "        # print(f\"Epoch: {epoch:5}, Train Cost: {train_cost: .4e}, Test Cost: {test_cost: .4e}\")\n",
    "        print(f\"Epoch: {epoch:5}, Train Acc: {train_acc:7}%, Test Acc: {test_acc:5}%\")"
   ]
  },
  {
   "cell_type": "code",
   "execution_count": 13,
   "metadata": {},
   "outputs": [
    {
     "data": {
      "image/png": "[encoded data removed]",
      "text/plain": [
       "<Figure size 640x480 with 1 Axes>"
      ]
     },
     "metadata": {},
     "output_type": "display_data"
    }
   ],
   "source": [
    "import matplotlib.pyplot as plt\n",
    "plt.plot(range(0, epochs + 1), train_cost_hist, label=\"train cost\")\n",
    "plt.plot(range(0, epochs + 1), test_cost_hist, label=\"test cost\")\n",
    "plt.title(\"train & test cost\")\n",
    "plt.xlabel(\"epochs\")\n",
    "plt.ylabel(\"cost\")\n",
    "plt.legend()\n",
    "plt.show()"
   ]
  },
  {
   "cell_type": "code",
   "execution_count": 14,
   "metadata": {},
   "outputs": [
    {
     "data": {
      "image/png": "[encoded data removed]",
      "text/plain": [
       "<Figure size 640x480 with 1 Axes>"
      ]
     },
     "metadata": {},
     "output_type": "display_data"
    }
   ],
   "source": [
    "import matplotlib.pyplot as plt\n",
    "plt.plot(range(0, epochs + 1), train_acc_hist, label=\"train acc\")\n",
    "plt.plot(range(0, epochs + 1), test_acc_hist, label=\"test acc\")\n",
    "plt.title(\"train & test acc\")\n",
    "plt.xlabel(\"epochs\")\n",
    "plt.ylabel(\"acc\")\n",
    "plt.legend()\n",
    "plt.show()"
   ]
  },
  {
   "cell_type": "code",
   "execution_count": 15,
   "metadata": {},
   "outputs": [
    {
     "data": {
      "text/plain": [
       "OrderedDict([('linear_layer.weight',\n",
       "              tensor([[-0.1825, -0.1211,  3.6460, -0.0998]], dtype=torch.float64)),\n",
       "             ('linear_layer.bias', tensor([-1.8237], dtype=torch.float64))])"
      ]
     },
     "execution_count": 15,
     "metadata": {},
     "output_type": "execute_result"
    }
   ],
   "source": [
    "model.state_dict()"
   ]
  },
  {
   "cell_type": "code",
   "execution_count": 16,
   "metadata": {},
   "outputs": [
    {
     "data": {
      "text/plain": [
       "tensor(90.)"
      ]
     },
     "execution_count": 16,
     "metadata": {},
     "output_type": "execute_result"
    }
   ],
   "source": [
    "model.eval()\n",
    "with torch.inference_mode():\n",
    "  y_pred = model(x_test)\n",
    "(torch.round(y_pred)==y_test).sum() / len(y_test) * 100"
   ]
  },
  {
   "cell_type": "code",
   "execution_count": 17,
   "metadata": {},
   "outputs": [
    {
     "data": {
      "text/plain": [
       "OrderedDict([('linear_layer.weight',\n",
       "              tensor([[ 0.4788, -0.3164,  0.3259,  0.3002]], dtype=torch.float64)),\n",
       "             ('linear_layer.bias', tensor([0.1951], dtype=torch.float64))])"
      ]
     },
     "execution_count": 17,
     "metadata": {},
     "output_type": "execute_result"
    }
   ],
   "source": [
    "torch.save(obj=model.state_dict(), f='model/pytorch logistic regression')\n",
    "model_2 = LogisticRegressionModel()\n",
    "model_2.state_dict()"
   ]
  },
  {
   "cell_type": "code",
   "execution_count": 18,
   "metadata": {},
   "outputs": [
    {
     "data": {
      "text/plain": [
       "OrderedDict([('linear_layer.weight',\n",
       "              tensor([[-0.1825, -0.1211,  3.6460, -0.0998]], dtype=torch.float64)),\n",
       "             ('linear_layer.bias', tensor([-1.8237], dtype=torch.float64))])"
      ]
     },
     "execution_count": 18,
     "metadata": {},
     "output_type": "execute_result"
    }
   ],
   "source": [
    "model_2.load_state_dict(state_dict=torch.load(f='model/pytorch logistic regression'))\n",
    "model_2.state_dict()"
   ]
  },
  {
   "cell_type": "markdown",
   "metadata": {},
   "source": [
    "### 測試步驟寫成函式"
   ]
  },
  {
   "cell_type": "code",
   "execution_count": 19,
   "metadata": {},
   "outputs": [],
   "source": [
    "def train_step(model, cost_function, optimizer, x_train, y_train, train_cost_hist, train_acc_hist):\n",
    "    model.train()\n",
    "\n",
    "    y_pred = model(x_train)\n",
    "\n",
    "    train_cost = cost_function(y_pred, y_train)\n",
    "    train_cost_hist.append(train_cost.detach().numpy())\n",
    "\n",
    "    train_acc = (torch.round(y_pred)==y_train).sum() / len(y_train) * 100\n",
    "    #torch.round做四捨五入\n",
    "    train_acc_hist.append(train_acc.detach().numpy())\n",
    "\n",
    "    optimizer.zero_grad()\n",
    "    train_cost.backward()\n",
    "    optimizer.step()\n",
    "\n",
    "    return train_acc\n",
    "\n",
    "\n",
    "def test_step(model, cost_function, optimizer, x_test, y_test, test_cost_hist, test_acc_hist):\n",
    "    model.eval()\n",
    "    with torch.inference_mode():\n",
    "        test_pred = model(x_test)\n",
    "        test_cost = cost_function(test_pred, y_test)\n",
    "        test_cost_hist.append(test_cost.numpy())\n",
    "\n",
    "        test_acc = (torch.round(test_pred)==y_test).sum() / len(y_test) * 100\n",
    "        test_acc_hist.append(test_acc.numpy())\n",
    "\n",
    "    return test_acc"
   ]
  },
  {
   "cell_type": "code",
   "execution_count": 20,
   "metadata": {},
   "outputs": [
    {
     "name": "stdout",
     "output_type": "stream",
     "text": [
      "Epoch:     0, Train acc: 89.0625%, Test acc:  90.0%\n",
      "Epoch:  1000, Train acc: 89.0625%, Test acc:  90.0%\n",
      "Epoch:  2000, Train acc: 89.0625%, Test acc:  90.0%\n",
      "Epoch:  3000, Train acc: 89.0625%, Test acc:  90.0%\n",
      "Epoch:  4000, Train acc: 89.0625%, Test acc:  90.0%\n",
      "Epoch:  5000, Train acc: 89.0625%, Test acc:  90.0%\n",
      "Epoch:  6000, Train acc: 89.0625%, Test acc:  90.0%\n",
      "Epoch:  7000, Train acc: 89.0625%, Test acc:  90.0%\n",
      "Epoch:  8000, Train acc: 89.0625%, Test acc:  90.0%\n",
      "Epoch:  9000, Train acc: 89.0625%, Test acc:  90.0%\n",
      "Epoch: 10000, Train acc: 89.0625%, Test acc:  90.0%\n"
     ]
    }
   ],
   "source": [
    "epochs = 10000\n",
    "\n",
    "for epoch in range(epochs + 1):\n",
    "    train_cost_hist = []\n",
    "    test_cost_hist = []\n",
    "    train_acc_hist = []\n",
    "    test_acc_hist = []\n",
    "\n",
    "    if epoch%1000==0:\n",
    "        print(f\"Epoch: {epoch:5}, Train acc: {train_step(model, cost_function, optimizer, x_train, y_train, train_cost_hist, train_acc_hist):7}%, Test acc: {test_step(model, cost_function, optimizer, x_test, y_test, test_cost_hist, test_acc_hist):5}%\")"
   ]
  }
 ],
 "metadata": {
  "kernelspec": {
   "display_name": "myenv",
   "language": "python",
   "name": "python3"
  },
  "language_info": {
   "codemirror_mode": {
    "name": "ipython",
    "version": 3
   },
   "file_extension": ".py",
   "mimetype": "text/x-python",
   "name": "python",
   "nbconvert_exporter": "python",
   "pygments_lexer": "ipython3",
   "version": "3.8.20"
  },
  "orig_nbformat": 4
 },
 "nbformat": 4,
 "nbformat_minor": 2
}
