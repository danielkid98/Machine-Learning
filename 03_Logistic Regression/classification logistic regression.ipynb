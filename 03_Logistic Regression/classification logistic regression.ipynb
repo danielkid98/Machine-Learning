{
 "cells": [
  {
   "cell_type": "markdown",
   "metadata": {},
   "source": [
    "###  線性回歸: y = w1*x1 + w2*x2 + w3*x3.... + b                                 \n",
    "###  由直線方程式轉換成彎曲的方程式需要一個函式: sigmoid function                   \n",
    "###  sigmoid function = 1 / 1 + e(a constant)**-y \n",
    "###  邏輯回歸: y = 1 / 1 + e**-(w1*x1 + w2*x2 + w3*x3.... + b)      "
   ]
  },
  {
   "cell_type": "code",
   "execution_count": 1,
   "metadata": {},
   "outputs": [
    {
     "data": {
      "text/html": [
       "<div>\n",
       "<style scoped>\n",
       "    .dataframe tbody tr th:only-of-type {\n",
       "        vertical-align: middle;\n",
       "    }\n",
       "\n",
       "    .dataframe tbody tr th {\n",
       "        vertical-align: top;\n",
       "    }\n",
       "\n",
       "    .dataframe thead th {\n",
       "        text-align: right;\n",
       "    }\n",
       "</style>\n",
       "<table border=\"1\" class=\"dataframe\">\n",
       "  <thead>\n",
       "    <tr style=\"text-align: right;\">\n",
       "      <th></th>\n",
       "      <th>Age</th>\n",
       "      <th>Weight</th>\n",
       "      <th>BloodSugar</th>\n",
       "      <th>Gender</th>\n",
       "      <th>Diabetes</th>\n",
       "    </tr>\n",
       "  </thead>\n",
       "  <tbody>\n",
       "    <tr>\n",
       "      <th>0</th>\n",
       "      <td>25</td>\n",
       "      <td>119</td>\n",
       "      <td>130.8</td>\n",
       "      <td>男生</td>\n",
       "      <td>1</td>\n",
       "    </tr>\n",
       "    <tr>\n",
       "      <th>1</th>\n",
       "      <td>66</td>\n",
       "      <td>102</td>\n",
       "      <td>128.1</td>\n",
       "      <td>女生</td>\n",
       "      <td>1</td>\n",
       "    </tr>\n",
       "    <tr>\n",
       "      <th>2</th>\n",
       "      <td>59</td>\n",
       "      <td>65</td>\n",
       "      <td>103.9</td>\n",
       "      <td>男生</td>\n",
       "      <td>0</td>\n",
       "    </tr>\n",
       "    <tr>\n",
       "      <th>3</th>\n",
       "      <td>46</td>\n",
       "      <td>117</td>\n",
       "      <td>94.8</td>\n",
       "      <td>女生</td>\n",
       "      <td>0</td>\n",
       "    </tr>\n",
       "    <tr>\n",
       "      <th>4</th>\n",
       "      <td>45</td>\n",
       "      <td>79</td>\n",
       "      <td>57.8</td>\n",
       "      <td>男生</td>\n",
       "      <td>0</td>\n",
       "    </tr>\n",
       "    <tr>\n",
       "      <th>...</th>\n",
       "      <td>...</td>\n",
       "      <td>...</td>\n",
       "      <td>...</td>\n",
       "      <td>...</td>\n",
       "      <td>...</td>\n",
       "    </tr>\n",
       "    <tr>\n",
       "      <th>395</th>\n",
       "      <td>72</td>\n",
       "      <td>63</td>\n",
       "      <td>97.1</td>\n",
       "      <td>女生</td>\n",
       "      <td>0</td>\n",
       "    </tr>\n",
       "    <tr>\n",
       "      <th>396</th>\n",
       "      <td>22</td>\n",
       "      <td>117</td>\n",
       "      <td>156.7</td>\n",
       "      <td>女生</td>\n",
       "      <td>1</td>\n",
       "    </tr>\n",
       "    <tr>\n",
       "      <th>397</th>\n",
       "      <td>31</td>\n",
       "      <td>76</td>\n",
       "      <td>119.0</td>\n",
       "      <td>男生</td>\n",
       "      <td>0</td>\n",
       "    </tr>\n",
       "    <tr>\n",
       "      <th>398</th>\n",
       "      <td>36</td>\n",
       "      <td>65</td>\n",
       "      <td>96.3</td>\n",
       "      <td>女生</td>\n",
       "      <td>1</td>\n",
       "    </tr>\n",
       "    <tr>\n",
       "      <th>399</th>\n",
       "      <td>38</td>\n",
       "      <td>75</td>\n",
       "      <td>106.3</td>\n",
       "      <td>男生</td>\n",
       "      <td>0</td>\n",
       "    </tr>\n",
       "  </tbody>\n",
       "</table>\n",
       "<p>400 rows × 5 columns</p>\n",
       "</div>"
      ],
      "text/plain": [
       "     Age  Weight  BloodSugar Gender  Diabetes\n",
       "0     25     119       130.8     男生         1\n",
       "1     66     102       128.1     女生         1\n",
       "2     59      65       103.9     男生         0\n",
       "3     46     117        94.8     女生         0\n",
       "4     45      79        57.8     男生         0\n",
       "..   ...     ...         ...    ...       ...\n",
       "395   72      63        97.1     女生         0\n",
       "396   22     117       156.7     女生         1\n",
       "397   31      76       119.0     男生         0\n",
       "398   36      65        96.3     女生         1\n",
       "399   38      75       106.3     男生         0\n",
       "\n",
       "[400 rows x 5 columns]"
      ]
     },
     "execution_count": 1,
     "metadata": {},
     "output_type": "execute_result"
    }
   ],
   "source": [
    "import pandas as pd\n",
    "data = pd.read_csv('Diabetes_Data.csv')\n",
    "data"
   ]
  },
  {
   "cell_type": "code",
   "execution_count": 2,
   "metadata": {},
   "outputs": [
    {
     "data": {
      "text/html": [
       "<div>\n",
       "<style scoped>\n",
       "    .dataframe tbody tr th:only-of-type {\n",
       "        vertical-align: middle;\n",
       "    }\n",
       "\n",
       "    .dataframe tbody tr th {\n",
       "        vertical-align: top;\n",
       "    }\n",
       "\n",
       "    .dataframe thead th {\n",
       "        text-align: right;\n",
       "    }\n",
       "</style>\n",
       "<table border=\"1\" class=\"dataframe\">\n",
       "  <thead>\n",
       "    <tr style=\"text-align: right;\">\n",
       "      <th></th>\n",
       "      <th>Age</th>\n",
       "      <th>Weight</th>\n",
       "      <th>BloodSugar</th>\n",
       "      <th>Gender</th>\n",
       "      <th>Diabetes</th>\n",
       "    </tr>\n",
       "  </thead>\n",
       "  <tbody>\n",
       "    <tr>\n",
       "      <th>0</th>\n",
       "      <td>25</td>\n",
       "      <td>119</td>\n",
       "      <td>130.8</td>\n",
       "      <td>1</td>\n",
       "      <td>1</td>\n",
       "    </tr>\n",
       "    <tr>\n",
       "      <th>1</th>\n",
       "      <td>66</td>\n",
       "      <td>102</td>\n",
       "      <td>128.1</td>\n",
       "      <td>0</td>\n",
       "      <td>1</td>\n",
       "    </tr>\n",
       "    <tr>\n",
       "      <th>2</th>\n",
       "      <td>59</td>\n",
       "      <td>65</td>\n",
       "      <td>103.9</td>\n",
       "      <td>1</td>\n",
       "      <td>0</td>\n",
       "    </tr>\n",
       "    <tr>\n",
       "      <th>3</th>\n",
       "      <td>46</td>\n",
       "      <td>117</td>\n",
       "      <td>94.8</td>\n",
       "      <td>0</td>\n",
       "      <td>0</td>\n",
       "    </tr>\n",
       "    <tr>\n",
       "      <th>4</th>\n",
       "      <td>45</td>\n",
       "      <td>79</td>\n",
       "      <td>57.8</td>\n",
       "      <td>1</td>\n",
       "      <td>0</td>\n",
       "    </tr>\n",
       "    <tr>\n",
       "      <th>...</th>\n",
       "      <td>...</td>\n",
       "      <td>...</td>\n",
       "      <td>...</td>\n",
       "      <td>...</td>\n",
       "      <td>...</td>\n",
       "    </tr>\n",
       "    <tr>\n",
       "      <th>395</th>\n",
       "      <td>72</td>\n",
       "      <td>63</td>\n",
       "      <td>97.1</td>\n",
       "      <td>0</td>\n",
       "      <td>0</td>\n",
       "    </tr>\n",
       "    <tr>\n",
       "      <th>396</th>\n",
       "      <td>22</td>\n",
       "      <td>117</td>\n",
       "      <td>156.7</td>\n",
       "      <td>0</td>\n",
       "      <td>1</td>\n",
       "    </tr>\n",
       "    <tr>\n",
       "      <th>397</th>\n",
       "      <td>31</td>\n",
       "      <td>76</td>\n",
       "      <td>119.0</td>\n",
       "      <td>1</td>\n",
       "      <td>0</td>\n",
       "    </tr>\n",
       "    <tr>\n",
       "      <th>398</th>\n",
       "      <td>36</td>\n",
       "      <td>65</td>\n",
       "      <td>96.3</td>\n",
       "      <td>0</td>\n",
       "      <td>1</td>\n",
       "    </tr>\n",
       "    <tr>\n",
       "      <th>399</th>\n",
       "      <td>38</td>\n",
       "      <td>75</td>\n",
       "      <td>106.3</td>\n",
       "      <td>1</td>\n",
       "      <td>0</td>\n",
       "    </tr>\n",
       "  </tbody>\n",
       "</table>\n",
       "<p>400 rows × 5 columns</p>\n",
       "</div>"
      ],
      "text/plain": [
       "     Age  Weight  BloodSugar  Gender  Diabetes\n",
       "0     25     119       130.8       1         1\n",
       "1     66     102       128.1       0         1\n",
       "2     59      65       103.9       1         0\n",
       "3     46     117        94.8       0         0\n",
       "4     45      79        57.8       1         0\n",
       "..   ...     ...         ...     ...       ...\n",
       "395   72      63        97.1       0         0\n",
       "396   22     117       156.7       0         1\n",
       "397   31      76       119.0       1         0\n",
       "398   36      65        96.3       0         1\n",
       "399   38      75       106.3       1         0\n",
       "\n",
       "[400 rows x 5 columns]"
      ]
     },
     "execution_count": 2,
     "metadata": {},
     "output_type": "execute_result"
    }
   ],
   "source": [
    "data[\"Gender\"] = data[\"Gender\"].map({\"男生\": 1, \"女生\": 0})\n",
    "data"
   ]
  },
  {
   "cell_type": "code",
   "execution_count": 3,
   "metadata": {},
   "outputs": [],
   "source": [
    "from sklearn.model_selection import train_test_split\n",
    "x = data[[\"Age\", \"Weight\", \"BloodSugar\", \"Gender\"]]\n",
    "y = data[\"Diabetes\"]\n",
    "\n",
    "x_train, x_test, y_train, y_test = train_test_split(x, y, test_size=0.2, random_state=87)\n",
    "x_train = x_train.to_numpy()\n",
    "x_test = x_test.to_numpy()"
   ]
  },
  {
   "cell_type": "code",
   "execution_count": 4,
   "metadata": {},
   "outputs": [],
   "source": [
    "from sklearn.preprocessing import StandardScaler\n",
    "scaler = StandardScaler()\n",
    "scaler.fit(x_train)\n",
    "x_train = scaler.transform(x_train)\n",
    "x_test = scaler.transform(x_test)"
   ]
  },
  {
   "cell_type": "markdown",
   "metadata": {},
   "source": [
    "###  使用 \"sigmoid function\" 輸出的值只會在0到1之間"
   ]
  },
  {
   "cell_type": "code",
   "execution_count": 5,
   "metadata": {},
   "outputs": [],
   "source": [
    "import numpy as np\n",
    "def sigmoid(z):\n",
    "    return 1 / (1 + np.exp(-z))"
   ]
  },
  {
   "cell_type": "code",
   "execution_count": 6,
   "metadata": {},
   "outputs": [],
   "source": [
    "w = np.array([1, 2, 3, 4])\n",
    "b = 1\n",
    "z = (w * x_train).sum(axis=1) + b\n",
    "y_predict = sigmoid(z)"
   ]
  },
  {
   "cell_type": "markdown",
   "metadata": {},
   "source": [
    "### Cost Function - Binary Cross Entropy"
   ]
  },
  {
   "cell_type": "markdown",
   "metadata": {},
   "source": [
    "cost:                                                                            \n",
    "when y = 1, cost = -log(y_predict)                                               \n",
    "when y = 0, cost = -log(1 - y_predict)                                           \n",
    "concat: cost = -y * log(y_predict) - (1 - y) * log(1 - y_predict)  "
   ]
  },
  {
   "cell_type": "code",
   "execution_count": 7,
   "metadata": {},
   "outputs": [
    {
     "data": {
      "text/plain": [
       "1.3959515636868534"
      ]
     },
     "execution_count": 7,
     "metadata": {},
     "output_type": "execute_result"
    }
   ],
   "source": [
    "cost = -y_train * np.log(y_predict) - (1 - y_train) * np.log(1 - y_predict)\n",
    "cost.mean()"
   ]
  },
  {
   "cell_type": "code",
   "execution_count": 8,
   "metadata": {},
   "outputs": [],
   "source": [
    "def compute_cost(x, y, w, b):\n",
    "    z = (w * x).sum(axis=1) + b\n",
    "    y_predict = sigmoid(z)\n",
    "    cost = -y * np.log(y_predict) - (1 - y) * np.log(1 - y_predict)\n",
    "    cost = cost.mean()\n",
    "    return cost"
   ]
  },
  {
   "cell_type": "code",
   "execution_count": 9,
   "metadata": {},
   "outputs": [
    {
     "data": {
      "text/plain": [
       "1.9542777292019753"
      ]
     },
     "execution_count": 9,
     "metadata": {},
     "output_type": "execute_result"
    }
   ],
   "source": [
    "w = np.array([1, 4, 2, 4])\n",
    "b = 2\n",
    "compute_cost(x_train, y_train, w, b)"
   ]
  },
  {
   "cell_type": "markdown",
   "metadata": {},
   "source": [
    "### Optimizer"
   ]
  },
  {
   "cell_type": "markdown",
   "metadata": {},
   "source": [
    "根據-y * log(y_predict) - (1 - y) * log(1 - y_predict)來做微分\n",
    "    w1微分 = 2 * x1(y_predict - y)                                               \n",
    "    W2微分 = 2 * x2(y_predict - y)                                               \n",
    "    W3微分 = 2 * x3(y_predict - y)                                               \n",
    "    W4微分 = 2 * x4(y_predict - y)                                               \n",
    "    b微分 = 2(y_predict - y)\n",
    "接著開始更新w以及b                                                           \n",
    "    w1 - w1方向斜率 * 學習率                                                      \n",
    "    w2 - w2方向斜率 * 學習率                                                      \n",
    "    w3 - w3方向斜率 * 學習率                                                      \n",
    "    w4 - w4方向斜率 * 學習率                                                      \n",
    "    b - b方向斜率 * 學習率"
   ]
  },
  {
   "cell_type": "code",
   "execution_count": 10,
   "metadata": {},
   "outputs": [
    {
     "data": {
      "text/plain": [
       "(array([ 0.04176112,  0.13246515, -0.12945482,  0.21952511]),\n",
       " 0.29409673395976715)"
      ]
     },
     "execution_count": 10,
     "metadata": {},
     "output_type": "execute_result"
    }
   ],
   "source": [
    "z = (w * x_train).sum(axis=1) + b\n",
    "y_predict = sigmoid(z)\n",
    "b_gradient = (y_predict - y_train).mean()\n",
    "\n",
    "w_gradient = np.zeros(x_train.shape[1])\n",
    "for i in range(x_train.shape[1]):\n",
    "    w_gradient[i] = (x_train[:, i] * (y_predict - y_train)).mean()\n",
    "\n",
    "w_gradient, b_gradient"
   ]
  },
  {
   "cell_type": "code",
   "execution_count": 11,
   "metadata": {},
   "outputs": [],
   "source": [
    "def compute_gradient(x, y, w, b):\n",
    "    '''\n",
    "    Returns:\n",
    "    w_gradient(微分結果, a array), b_gradient(微分結果)\n",
    "    \n",
    "    Parameters:\n",
    "    x, y(data)\n",
    "    w, b(a array of weight, a constant of bias)\n",
    "    '''\n",
    "    z = (w * x_train).sum(axis=1) + b\n",
    "    y_predict = sigmoid(z)\n",
    "    b_gradient = (y_predict - y).mean()\n",
    "\n",
    "    w_gradient = np.zeros(x.shape[1])\n",
    "    for i in range(x.shape[1]):\n",
    "        w_gradient[i] = (x[:, i] * (y_predict - y)).mean()\n",
    "\n",
    "    return w_gradient, b_gradient"
   ]
  },
  {
   "cell_type": "code",
   "execution_count": 12,
   "metadata": {},
   "outputs": [
    {
     "data": {
      "text/plain": [
       "(array([ 0.02951124, -0.00123345, -0.20911372,  0.15024735]),\n",
       " 0.518806798216479)"
      ]
     },
     "execution_count": 12,
     "metadata": {},
     "output_type": "execute_result"
    }
   ],
   "source": [
    "w = np.array([1, 2, 2, 3])\n",
    "b = 5\n",
    "compute_gradient(x_train, y_train, w, b)"
   ]
  },
  {
   "cell_type": "code",
   "execution_count": 13,
   "metadata": {},
   "outputs": [
    {
     "name": "stdout",
     "output_type": "stream",
     "text": [
      "2.8154062345431683\n",
      "[0.97048876 2.00123345 2.20911372 2.84975265] 4.481193201783521\n",
      "2.487342502355539\n"
     ]
    }
   ],
   "source": [
    "w = np.array([1, 2, 2, 3])\n",
    "b = 5\n",
    "learning_rate = 1\n",
    "\n",
    "w_gradient, b_gradient = compute_gradient(x_train, y_train, w, b)\n",
    "\n",
    "print(compute_cost(x_train, y_train, w, b))\n",
    "\n",
    "w = w - w_gradient * learning_rate\n",
    "b = b - b_gradient * learning_rate\n",
    "print(w, b)\n",
    "print(compute_cost(x_train, y_train, w, b))"
   ]
  },
  {
   "cell_type": "code",
   "execution_count": 14,
   "metadata": {},
   "outputs": [],
   "source": [
    "np.set_printoptions(formatter={'float': '{: .2e}'.format})\n",
    "#需要轉換格式因為w以及w_gradient是一個陣列形態\n",
    "def gradient_descent(x, y, w_init, b_init, learning_rate, cost_function, gradient_function, run_iter, p_iter=1000):\n",
    "    \n",
    "    c_hist = []\n",
    "    w_hist = []\n",
    "    b_hist = []\n",
    "    \n",
    "    w = w_init\n",
    "    b = b_init\n",
    "\n",
    "    for i in range(run_iter + 1):\n",
    "        w_gradient, b_gradient = gradient_function(x, y, w, b)\n",
    "\n",
    "        w = w - w_gradient*learning_rate\n",
    "        b = b - b_gradient*learning_rate\n",
    "        cost = cost_function(x, y, w, b)\n",
    "\n",
    "        w_hist.append(w)\n",
    "        b_hist.append(b)\n",
    "        c_hist.append(cost)\n",
    "\n",
    "        if i%p_iter == 0:\n",
    "            print(f\"Iteration {i:5} : Cost {cost: .4e}, w: {w}, b: {b: .2e}, w_gradient: {w_gradient}, b_gradient: {b_gradient: .2e}\")\n",
    "\n",
    "    return w, b, w_hist, b_hist, c_hist"
   ]
  },
  {
   "cell_type": "code",
   "execution_count": 15,
   "metadata": {},
   "outputs": [
    {
     "name": "stdout",
     "output_type": "stream",
     "text": [
      "Iteration     0 : Cost  2.4873e+00, w: [ 9.70e-01  2.00e+00  2.21e+00  2.85e+00], b:  4.48e+00, w_gradient: [ 2.95e-02 -1.23e-03 -2.09e-01  1.50e-01], b_gradient:  5.19e-01\n"
     ]
    },
    {
     "name": "stdout",
     "output_type": "stream",
     "text": [
      "Iteration  1000 : Cost  2.3005e-01, w: [-2.53e-01 -3.06e-01  4.62e+00 -1.58e-01], b: -2.24e+00, w_gradient: [ 5.36e-07  1.44e-06 -7.74e-06  4.51e-07], b_gradient:  3.32e-06\n",
      "Iteration  2000 : Cost  2.3005e-01, w: [-2.53e-01 -3.06e-01  4.62e+00 -1.58e-01], b: -2.24e+00, w_gradient: [ 4.40e-10  1.18e-09 -6.36e-09  3.70e-10], b_gradient:  2.73e-09\n",
      "Iteration  3000 : Cost  2.3005e-01, w: [-2.53e-01 -3.06e-01  4.62e+00 -1.58e-01], b: -2.24e+00, w_gradient: [ 3.61e-13  9.73e-13 -5.22e-12  3.04e-13], b_gradient:  2.24e-12\n",
      "Iteration  4000 : Cost  2.3005e-01, w: [-2.53e-01 -3.06e-01  4.62e+00 -1.58e-01], b: -2.24e+00, w_gradient: [ 2.98e-16  8.01e-16 -4.30e-15  2.44e-16], b_gradient:  1.92e-15\n",
      "Iteration  5000 : Cost  2.3005e-01, w: [-2.53e-01 -3.06e-01  4.62e+00 -1.58e-01], b: -2.24e+00, w_gradient: [ 1.94e-17  2.36e-17 -4.33e-16  1.39e-17], b_gradient:  2.05e-16\n",
      "Iteration  6000 : Cost  2.3005e-01, w: [-2.53e-01 -3.06e-01  4.62e+00 -1.58e-01], b: -2.24e+00, w_gradient: [ 1.94e-17  2.36e-17 -4.33e-16  1.39e-17], b_gradient:  2.05e-16\n",
      "Iteration  7000 : Cost  2.3005e-01, w: [-2.53e-01 -3.06e-01  4.62e+00 -1.58e-01], b: -2.24e+00, w_gradient: [ 1.94e-17  2.36e-17 -4.33e-16  1.39e-17], b_gradient:  2.05e-16\n",
      "Iteration  8000 : Cost  2.3005e-01, w: [-2.53e-01 -3.06e-01  4.62e+00 -1.58e-01], b: -2.24e+00, w_gradient: [ 1.94e-17  2.36e-17 -4.33e-16  1.39e-17], b_gradient:  2.05e-16\n",
      "Iteration  9000 : Cost  2.3005e-01, w: [-2.53e-01 -3.06e-01  4.62e+00 -1.58e-01], b: -2.24e+00, w_gradient: [ 1.94e-17  2.36e-17 -4.33e-16  1.39e-17], b_gradient:  2.05e-16\n",
      "Iteration 10000 : Cost  2.3005e-01, w: [-2.53e-01 -3.06e-01  4.62e+00 -1.58e-01], b: -2.24e+00, w_gradient: [ 1.94e-17  2.36e-17 -4.33e-16  1.39e-17], b_gradient:  2.05e-16\n"
     ]
    }
   ],
   "source": [
    "w_init = np.array([1, 2, 2, 3])\n",
    "b_init = 5\n",
    "learning_rate = 1\n",
    "run_iter = 10000\n",
    "\n",
    "w_final, b_final, w_hist, b_hist, c_hist = gradient_descent(x_train, y_train, w_init, b_init, learning_rate, compute_cost, compute_gradient, run_iter)"
   ]
  },
  {
   "cell_type": "code",
   "execution_count": 16,
   "metadata": {},
   "outputs": [
    {
     "data": {
      "image/png": "[encoded data removed]",
      "text/plain": [
       "<Figure size 640x480 with 1 Axes>"
      ]
     },
     "metadata": {},
     "output_type": "display_data"
    }
   ],
   "source": [
    "import matplotlib.pyplot as plt\n",
    "import numpy as np\n",
    "\n",
    "plt.plot(np.arange(0, 100), c_hist[:100])\n",
    "plt.title(\"iteration vs cost\")\n",
    "plt.xlabel(\"iteration\")\n",
    "plt.ylabel(\"cost\")\n",
    "plt.show()"
   ]
  },
  {
   "cell_type": "code",
   "execution_count": 17,
   "metadata": {},
   "outputs": [
    {
     "data": {
      "image/png": "[encoded data removed]",
      "text/plain": [
       "<Figure size 640x480 with 1 Axes>"
      ]
     },
     "metadata": {},
     "output_type": "display_data"
    }
   ],
   "source": [
    "plt.plot(np.arange(0, 1000), w_hist[:1000])\n",
    "plt.title(\"iteration vs w\")\n",
    "plt.xlabel(\"iteration\")\n",
    "plt.ylabel(\"w\")\n",
    "plt.show()"
   ]
  },
  {
   "cell_type": "code",
   "execution_count": 18,
   "metadata": {},
   "outputs": [
    {
     "data": {
      "image/png": "[encoded data removed]",
      "text/plain": [
       "<Figure size 640x480 with 1 Axes>"
      ]
     },
     "metadata": {},
     "output_type": "display_data"
    }
   ],
   "source": [
    "plt.plot(np.arange(0, 100), b_hist[:100])\n",
    "plt.title(\"iteration vs b\")\n",
    "plt.xlabel(\"iteration\")\n",
    "plt.ylabel(\"b\")\n",
    "plt.show()"
   ]
  },
  {
   "cell_type": "code",
   "execution_count": 19,
   "metadata": {},
   "outputs": [
    {
     "data": {
      "text/plain": [
       "(array([-2.53e-01, -3.06e-01,  4.62e+00, -1.58e-01]), -2.2423167596289706)"
      ]
     },
     "execution_count": 19,
     "metadata": {},
     "output_type": "execute_result"
    }
   ],
   "source": [
    "w_final, b_final"
   ]
  },
  {
   "cell_type": "code",
   "execution_count": 20,
   "metadata": {},
   "outputs": [
    {
     "name": "stdout",
     "output_type": "stream",
     "text": [
      "Correct rate: 0.9\n"
     ]
    }
   ],
   "source": [
    "z = (w_final*x_test).sum(axis=1) + b_final\n",
    "y_predict = sigmoid(z)\n",
    "\n",
    "y_predict = np.where(y_predict > 0.5, 1, 0)\n",
    "#尋找y_predict裡面所有的值，只要裡面的值大於0.5的話，就把它替換成1；若小於或等於0.5的把它，替換成0。\n",
    "\n",
    "accuracy = (y_test == y_predict).sum() / len(y_test)\n",
    "print(f'Correct rate: {accuracy}')"
   ]
  },
  {
   "cell_type": "markdown",
   "metadata": {},
   "source": [
    "### 套用到真實狀況"
   ]
  },
  {
   "cell_type": "code",
   "execution_count": 21,
   "metadata": {},
   "outputs": [
    {
     "data": {
      "text/plain": [
       "array([ 4.35e-02,  7.08e-01])"
      ]
     },
     "execution_count": 21,
     "metadata": {},
     "output_type": "execute_result"
    }
   ],
   "source": [
    "# 72 92 102 女生\n",
    "# 62 52 120 男生\n",
    "x_real = np.array([[72, 92, 102, 0], [62, 52, 120, 1]])\n",
    "x_real = scaler.transform(x_real)\n",
    "z = (w_final*x_real).sum(axis=1) + b_final\n",
    "y_real = sigmoid(z)\n",
    "y_real"
   ]
  },
  {
   "cell_type": "markdown",
   "metadata": {},
   "source": [
    "### There many helpful model for us in 'Scikit learn'"
   ]
  },
  {
   "cell_type": "code",
   "execution_count": 22,
   "metadata": {},
   "outputs": [
    {
     "name": "stdout",
     "output_type": "stream",
     "text": [
      "Correct rate: 0.8875\n"
     ]
    }
   ],
   "source": [
    "from sklearn.linear_model import LogisticRegression\n",
    "logistic_model = LogisticRegression()\n",
    "logistic_model.fit(x_train, y_train)\n",
    "y_predict = logistic_model.predict(x_test)\n",
    "accuracy = (y_test == y_predict).sum() / len(y_test)\n",
    "print(f'Correct rate: {accuracy}')"
   ]
  },
  {
   "cell_type": "code",
   "execution_count": 23,
   "metadata": {},
   "outputs": [
    {
     "name": "stdout",
     "output_type": "stream",
     "text": [
      "Correct rate: 0.8875\n"
     ]
    }
   ],
   "source": [
    "from sklearn.svm import SVC\n",
    "svm_model = SVC()\n",
    "svm_model.fit(x_train, y_train)\n",
    "y_predict = svm_model.predict(x_test)\n",
    "accuracy = (y_test == y_predict).sum() / len(y_test)\n",
    "print(f'Correct rate: {accuracy}')"
   ]
  }
 ],
 "metadata": {
  "kernelspec": {
   "display_name": "microsoft_python",
   "language": "python",
   "name": "python3"
  },
  "language_info": {
   "codemirror_mode": {
    "name": "ipython",
    "version": 3
   },
   "file_extension": ".py",
   "mimetype": "text/x-python",
   "name": "python",
   "nbconvert_exporter": "python",
   "pygments_lexer": "ipython3",
   "version": "3.8.17"
  },
  "orig_nbformat": 4
 },
 "nbformat": 4,
 "nbformat_minor": 2
}
