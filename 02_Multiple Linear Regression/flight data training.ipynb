{
 "cells": [
  {
   "cell_type": "code",
   "execution_count": 1,
   "metadata": {},
   "outputs": [],
   "source": [
    "import pandas as pd\n",
    "airports_dataframe = pd.read_csv('flight_data.csv')\n",
    "airports_dataframe\n",
    "\n",
    "airports_dataframe.dropna(inplace=True)"
   ]
  },
  {
   "cell_type": "code",
   "execution_count": 2,
   "metadata": {},
   "outputs": [],
   "source": [
    "x = airports_dataframe.loc[:, ['DISTANCE', 'CRS_ELAPSED_TIME']]\n",
    "#\"CRS_ELAPSED_TIME\" 是航空業中的一個術語，代表著航班的計劃飛行時間，通常以分鐘為單位。\n",
    "y = airports_dataframe.loc[:, ['ARR_DELAY']]\n",
    "\n",
    "from sklearn.model_selection import train_test_split\n",
    "x_train, x_test, y_train, y_test = train_test_split(x, y, test_size=0.3, random_state=63)"
   ]
  },
  {
   "cell_type": "code",
   "execution_count": 3,
   "metadata": {},
   "outputs": [],
   "source": [
    "x_train = x_train.to_numpy()\n",
    "x_test = x_test.to_numpy()\n",
    "y_train = y_train.to_numpy()\n",
    "y_test = y_test.to_numpy()"
   ]
  },
  {
   "cell_type": "code",
   "execution_count": 4,
   "metadata": {},
   "outputs": [],
   "source": [
    "def compute_cost(x, y, w, b):\n",
    "    '''\n",
    "    returns:\n",
    "    cost is corresponding w and b\n",
    "\n",
    "    Parameters:\n",
    "    x, y(training data)\n",
    "    w, b(a array of weight, a constant of bias)\n",
    "    '''\n",
    "    y_predict = (x * w).sum(axis=1) + b\n",
    "    cost = ((y - y_predict)**2).mean()\n",
    "\n",
    "    return cost"
   ]
  },
  {
   "cell_type": "code",
   "execution_count": 5,
   "metadata": {},
   "outputs": [
    {
     "data": {
      "text/plain": [
       "7914915679.577116"
      ]
     },
     "execution_count": 5,
     "metadata": {},
     "output_type": "execute_result"
    }
   ],
   "source": [
    "import numpy as np\n",
    "w = np.array([100, 100])\n",
    "b = 0\n",
    "compute_cost(x_train, y_train, w, b)"
   ]
  },
  {
   "cell_type": "code",
   "execution_count": 6,
   "metadata": {},
   "outputs": [
    {
     "data": {
      "text/plain": [
       "(array([67903066.07330847, 11246998.55392869]), 76323.58213256484)"
      ]
     },
     "execution_count": 6,
     "metadata": {},
     "output_type": "execute_result"
    }
   ],
   "source": [
    "y_predict = (x_train * w).sum(axis=1) + b\n",
    "b_gradient = (y_predict - y_train).mean()\n",
    "\n",
    "w_gradient = np.zeros(x_train.shape[1])\n",
    "for i in range(x_train.shape[1]):\n",
    "    w_gradient[i] = (x_train[:, i] * (y_predict - y_train)).mean()\n",
    "\n",
    "w_gradient, b_gradient"
   ]
  },
  {
   "cell_type": "code",
   "execution_count": 7,
   "metadata": {},
   "outputs": [],
   "source": [
    "def compute_gradient(x, y, w, b):\n",
    "    '''\n",
    "    Returns:\n",
    "    w_gradient(微分結果, a array), b_gradient(微分結果)\n",
    "    \n",
    "    Parameters:\n",
    "    x, y(data)\n",
    "    w, b(a array of weight, a constant of bias)\n",
    "    '''\n",
    "    y_predict = (x * w).sum(axis=1) + b\n",
    "    b_gradient = (y_predict - y).mean()\n",
    "\n",
    "    w_gradient = np.zeros(x.shape[1])\n",
    "    for i in range(x.shape[1]):\n",
    "        w_gradient[i] = (x[:, i] * (y_predict - y)).mean()\n",
    "\n",
    "    return w_gradient, b_gradient"
   ]
  },
  {
   "cell_type": "code",
   "execution_count": 8,
   "metadata": {},
   "outputs": [
    {
     "name": "stdout",
     "output_type": "stream",
     "text": [
      "7915068327.741382\n",
      "310924812.7971986\n",
      "[-35.80742602  77.50577027] 0.8473508357348704\n"
     ]
    }
   ],
   "source": [
    "w = np.array([100, 100])\n",
    "b = 1\n",
    "learning_rate = 0.000002\n",
    "\n",
    "w_gradient, b_gradient = compute_gradient(x_train, y_train, w, b)\n",
    "\n",
    "print(compute_cost(x_train, y_train, w, b))\n",
    "\n",
    "w = w - w_gradient * learning_rate\n",
    "b = b - b_gradient * learning_rate\n",
    "print(compute_cost(x_train, y_train, w, b))\n",
    "print(w, b)"
   ]
  },
  {
   "cell_type": "code",
   "execution_count": 9,
   "metadata": {},
   "outputs": [],
   "source": [
    "np.set_printoptions(formatter={'float': '{: .2e}'.format})\n",
    "#需要轉換格式因為w以及w_gradient是一個陣列形態\n",
    "def gradient_descent(x, y, w_init, b_init, learning_rate, cost_function, gradient_function, run_iter, p_iter=1000):\n",
    "    \n",
    "    c_hist = []\n",
    "    w_hist = []\n",
    "    b_hist = []\n",
    "    \n",
    "    w = w_init\n",
    "    b = b_init\n",
    "\n",
    "    for i in range(run_iter + 1):\n",
    "        w_gradient, b_gradient = gradient_function(x, y, w, b)\n",
    "\n",
    "        w = w - w_gradient*learning_rate\n",
    "        b = b - b_gradient*learning_rate\n",
    "        cost = cost_function(x, y, w, b)\n",
    "\n",
    "        w_hist.append(w)\n",
    "        b_hist.append(b)\n",
    "        c_hist.append(cost)\n",
    "\n",
    "        if i%p_iter == 0:\n",
    "            print(f\"Iteration {i:5} : Cost {cost: .4e}, w: {w}, b: {b: .2e}, w_gradient: {w_gradient}, b_gradient: {b_gradient: .2e}\")\n",
    "\n",
    "    return w, b, w_hist, b_hist, c_hist"
   ]
  },
  {
   "cell_type": "code",
   "execution_count": 10,
   "metadata": {},
   "outputs": [
    {
     "name": "stdout",
     "output_type": "stream",
     "text": [
      "Iteration     0 : Cost  3.1092e+08, w: [-3.58e+01  7.75e+01], b: -1.53e-01, w_gradient: [ 6.79e+07  1.12e+07], b_gradient:  7.63e+04\n",
      "Iteration  2000 : Cost  1.3330e+05, w: [-3.11e+00  1.88e+01], b: -1.74e+00, w_gradient: [-1.13e+03  6.87e+03], b_gradient:  1.77e+02\n",
      "Iteration  4000 : Cost  8.0153e+03, w: [-7.27e-01  4.42e+00], b: -2.11e+00, w_gradient: [-2.62e+02  1.59e+03], b_gradient:  4.09e+01\n",
      "Iteration  6000 : Cost  1.3161e+03, w: [-1.76e-01  1.09e+00], b: -2.20e+00, w_gradient: [-6.07e+01  3.67e+02], b_gradient:  9.35e+00\n",
      "Iteration  8000 : Cost  9.5784e+02, w: [-4.88e-02  3.19e-01], b: -2.22e+00, w_gradient: [-1.40e+01  8.49e+01], b_gradient:  2.05e+00\n",
      "Iteration 10000 : Cost  9.3868e+02, w: [-1.94e-02  1.40e-01], b: -2.22e+00, w_gradient: [-3.25e+00  1.96e+01], b_gradient:  3.68e-01\n",
      "Iteration 12000 : Cost  9.3766e+02, w: [-1.26e-02  9.91e-02], b: -2.22e+00, w_gradient: [-7.51e-01  4.55e+00], b_gradient: -2.25e-02\n",
      "Iteration 14000 : Cost  9.3761e+02, w: [-1.10e-02  8.95e-02], b: -2.22e+00, w_gradient: [-1.74e-01  1.05e+00], b_gradient: -1.13e-01\n",
      "Iteration 16000 : Cost  9.3760e+02, w: [-1.06e-02  8.73e-02], b: -2.22e+00, w_gradient: [-4.06e-02  2.46e-01], b_gradient: -1.34e-01\n",
      "Iteration 18000 : Cost  9.3760e+02, w: [-1.05e-02  8.68e-02], b: -2.22e+00, w_gradient: [-9.71e-03  5.97e-02], b_gradient: -1.38e-01\n",
      "Iteration 20000 : Cost  9.3760e+02, w: [-1.05e-02  8.67e-02], b: -2.22e+00, w_gradient: [-2.58e-03  1.65e-02], b_gradient: -1.39e-01\n"
     ]
    }
   ],
   "source": [
    "w_init = np.array([100, 100])\n",
    "b_init = 0\n",
    "learning_rate = 0.000002\n",
    "run_iter = 20000\n",
    "p_iter = 2000\n",
    "\n",
    "w_final, b_final, w_hist, b_hist, c_hist = gradient_descent(x_train, y_train, w_init, b_init, learning_rate, compute_cost, compute_gradient, run_iter, p_iter)"
   ]
  },
  {
   "cell_type": "code",
   "execution_count": 11,
   "metadata": {},
   "outputs": [
    {
     "data": {
      "text/plain": [
       "(array([-1.05e-02,  8.67e-02]), -2.2180629630870876)"
      ]
     },
     "execution_count": 11,
     "metadata": {},
     "output_type": "execute_result"
    }
   ],
   "source": [
    "w_final, b_final"
   ]
  },
  {
   "cell_type": "code",
   "execution_count": 12,
   "metadata": {},
   "outputs": [
    {
     "data": {
      "text/plain": [
       "array([ 1.24e+00,  1.58e+00,  9.95e-01,  1.75e+00,  5.65e-01,  2.12e+00,\n",
       "        1.10e+00,  1.08e+00,  9.03e-01,  7.48e-01,  1.80e-01,  2.88e+00,\n",
       "        2.12e+00, -8.67e-04,  1.44e+00,  1.89e+00,  9.01e-01,  4.69e-01,\n",
       "        2.78e+00,  5.07e-01,  2.18e+00, -3.48e-02,  1.11e+00,  2.99e-01,\n",
       "        1.21e+00,  1.24e+00,  6.69e-01,  1.63e+00,  1.80e+00,  2.33e+00,\n",
       "        6.34e-01,  1.86e+00,  1.68e+00,  4.03e-01,  8.54e-01,  2.57e+00,\n",
       "        1.65e+00,  1.04e+00,  7.86e-01,  1.25e+00,  8.87e-01,  1.34e+00,\n",
       "        7.14e-01,  9.36e-01,  1.24e+00,  1.27e+00,  1.49e+00,  1.25e+00,\n",
       "        1.04e+00,  2.04e-01,  8.74e-01,  4.41e-01,  9.97e-01,  1.13e+00,\n",
       "        2.88e+00,  3.03e+00, -2.71e-01,  5.62e-01,  1.03e+00,  3.61e+00,\n",
       "        6.04e-01,  3.03e+00,  6.69e-01,  1.61e+00,  1.47e+00,  5.05e-01,\n",
       "        1.73e+00,  8.81e-01,  1.56e+00,  2.62e+00,  5.48e-01,  6.99e-01,\n",
       "        4.62e-01,  1.25e+00,  9.51e-01,  4.27e-01,  7.67e-01, -1.29e-01,\n",
       "        1.24e+00,  8.91e-01,  1.77e+00,  8.17e-01,  7.75e-01,  3.77e-01,\n",
       "        8.82e-01,  1.53e+00,  4.62e-01,  1.33e+00,  8.83e-01,  2.97e+00,\n",
       "        8.40e-01,  4.32e-01,  1.27e+00,  9.75e-01,  1.15e+00, -1.34e-01,\n",
       "        1.50e+00,  1.52e+00,  2.18e+00,  1.95e+00,  5.77e-01,  1.25e+00,\n",
       "        1.71e+00,  1.68e+00,  3.16e-01,  2.79e-01,  1.73e+00,  5.59e-01,\n",
       "        1.43e+00, -2.29e-01,  1.90e+00,  9.03e-01,  9.95e-01,  8.73e-01,\n",
       "        1.33e+00,  8.34e-01,  1.43e+00,  1.58e+00,  8.99e-01,  9.52e-01,\n",
       "        1.05e+00,  1.00e+00,  4.32e-01,  1.31e+00,  1.64e+00,  2.02e+00,\n",
       "        2.16e+00,  1.79e+00,  1.27e+00,  7.32e-01,  7.37e-01,  6.34e-01,\n",
       "        5.26e-01,  8.81e-01,  2.07e+00,  5.59e-01,  1.37e+00,  1.52e+00,\n",
       "        8.81e-01,  1.04e+00,  3.06e-01,  1.72e+00, -1.55e-01,  4.32e-01,\n",
       "        9.08e-01,  1.27e+00,  8.34e-01,  6.13e-01,  1.47e+00, -1.16e-01])"
      ]
     },
     "execution_count": 12,
     "metadata": {},
     "output_type": "execute_result"
    }
   ],
   "source": [
    "y_predict = (x_test * w_final).sum(axis=1) + b_final\n",
    "y_predict"
   ]
  },
  {
   "cell_type": "code",
   "execution_count": 13,
   "metadata": {},
   "outputs": [
    {
     "data": {
      "text/plain": [
       "398.85744715360073"
      ]
     },
     "execution_count": 13,
     "metadata": {},
     "output_type": "execute_result"
    }
   ],
   "source": [
    "compute_cost(x_test, y_test, w_final, b_final)"
   ]
  },
  {
   "cell_type": "code",
   "execution_count": 14,
   "metadata": {},
   "outputs": [
    {
     "name": "stdout",
     "output_type": "stream",
     "text": [
      "Mean Squared Error: 398.65327176126794\n"
     ]
    }
   ],
   "source": [
    "from sklearn import metrics\n",
    "print(f\"Mean Squared Error: {metrics.mean_squared_error(y_test, y_predict)}\")"
   ]
  },
  {
   "cell_type": "code",
   "execution_count": 15,
   "metadata": {},
   "outputs": [],
   "source": [
    "y_test = pd.DataFrame(y_test)\n",
    "y_predict = pd.DataFrame(y_predict)"
   ]
  },
  {
   "cell_type": "markdown",
   "metadata": {},
   "source": [
    "### 使用 pandas.concat() 方法將兩個 Pandas 系列合併為一個 DataFrame"
   ]
  },
  {
   "cell_type": "code",
   "execution_count": 16,
   "metadata": {},
   "outputs": [
    {
     "data": {
      "text/html": [
       "<div>\n",
       "<style scoped>\n",
       "    .dataframe tbody tr th:only-of-type {\n",
       "        vertical-align: middle;\n",
       "    }\n",
       "\n",
       "    .dataframe tbody tr th {\n",
       "        vertical-align: top;\n",
       "    }\n",
       "\n",
       "    .dataframe thead th {\n",
       "        text-align: right;\n",
       "    }\n",
       "</style>\n",
       "<table border=\"1\" class=\"dataframe\">\n",
       "  <thead>\n",
       "    <tr style=\"text-align: right;\">\n",
       "      <th></th>\n",
       "      <th>y test</th>\n",
       "      <th>y predict</th>\n",
       "    </tr>\n",
       "  </thead>\n",
       "  <tbody>\n",
       "    <tr>\n",
       "      <th>0</th>\n",
       "      <td>-12.0</td>\n",
       "      <td>1.244096</td>\n",
       "    </tr>\n",
       "    <tr>\n",
       "      <th>1</th>\n",
       "      <td>26.0</td>\n",
       "      <td>1.575352</td>\n",
       "    </tr>\n",
       "    <tr>\n",
       "      <th>2</th>\n",
       "      <td>-6.0</td>\n",
       "      <td>0.995183</td>\n",
       "    </tr>\n",
       "    <tr>\n",
       "      <th>3</th>\n",
       "      <td>1.0</td>\n",
       "      <td>1.748171</td>\n",
       "    </tr>\n",
       "    <tr>\n",
       "      <th>4</th>\n",
       "      <td>-5.0</td>\n",
       "      <td>0.565336</td>\n",
       "    </tr>\n",
       "    <tr>\n",
       "      <th>...</th>\n",
       "      <td>...</td>\n",
       "      <td>...</td>\n",
       "    </tr>\n",
       "    <tr>\n",
       "      <th>145</th>\n",
       "      <td>92.0</td>\n",
       "      <td>1.271897</td>\n",
       "    </tr>\n",
       "    <tr>\n",
       "      <th>146</th>\n",
       "      <td>-1.0</td>\n",
       "      <td>0.834208</td>\n",
       "    </tr>\n",
       "    <tr>\n",
       "      <th>147</th>\n",
       "      <td>2.0</td>\n",
       "      <td>0.613499</td>\n",
       "    </tr>\n",
       "    <tr>\n",
       "      <th>148</th>\n",
       "      <td>-11.0</td>\n",
       "      <td>1.467858</td>\n",
       "    </tr>\n",
       "    <tr>\n",
       "      <th>149</th>\n",
       "      <td>-8.0</td>\n",
       "      <td>-0.116347</td>\n",
       "    </tr>\n",
       "  </tbody>\n",
       "</table>\n",
       "<p>150 rows × 2 columns</p>\n",
       "</div>"
      ],
      "text/plain": [
       "     y test  y predict\n",
       "0     -12.0   1.244096\n",
       "1      26.0   1.575352\n",
       "2      -6.0   0.995183\n",
       "3       1.0   1.748171\n",
       "4      -5.0   0.565336\n",
       "..      ...        ...\n",
       "145    92.0   1.271897\n",
       "146    -1.0   0.834208\n",
       "147     2.0   0.613499\n",
       "148   -11.0   1.467858\n",
       "149    -8.0  -0.116347\n",
       "\n",
       "[150 rows x 2 columns]"
      ]
     },
     "execution_count": 16,
     "metadata": {},
     "output_type": "execute_result"
    }
   ],
   "source": [
    "y_predict_and_y_test = pd.concat([y_test, y_predict], axis=1)\n",
    "\n",
    "new_columns = ['y test', 'y predict']\n",
    "y_predict_and_y_test.columns = new_columns\n",
    "y_predict_and_y_test"
   ]
  },
  {
   "cell_type": "code",
   "execution_count": 17,
   "metadata": {},
   "outputs": [
    {
     "data": {
      "text/plain": [
       "array([-2.71e-01,  7.86e-01])"
      ]
     },
     "execution_count": 17,
     "metadata": {},
     "output_type": "execute_result"
    }
   ],
   "source": [
    "# 1670, 225\n",
    "# 580, 105\n",
    "x_real = np.array([[1670, 225], [580, 105]])\n",
    "y_real = (w_final*x_real).sum(axis=1) + b_final\n",
    "y_real"
   ]
  }
 ],
 "metadata": {
  "kernelspec": {
   "display_name": "microsoft_python",
   "language": "python",
   "name": "python3"
  },
  "language_info": {
   "codemirror_mode": {
    "name": "ipython",
    "version": 3
   },
   "file_extension": ".py",
   "mimetype": "text/x-python",
   "name": "python",
   "nbconvert_exporter": "python",
   "pygments_lexer": "ipython3",
   "version": "3.8.17"
  },
  "orig_nbformat": 4
 },
 "nbformat": 4,
 "nbformat_minor": 2
}
