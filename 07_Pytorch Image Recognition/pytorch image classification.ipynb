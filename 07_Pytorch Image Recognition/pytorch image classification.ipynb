{
 "cells": [
  {
   "cell_type": "code",
   "execution_count": 1,
   "metadata": {},
   "outputs": [],
   "source": [
    "from torchvision import datasets\n",
    "from torchvision.transforms import ToTensor\n",
    "import matplotlib.pyplot as plt\n",
    "import random\n",
    "from torch.utils.data import DataLoader\n",
    "from torch import nn\n",
    "import torch"
   ]
  },
  {
   "cell_type": "code",
   "execution_count": 2,
   "metadata": {},
   "outputs": [],
   "source": [
    "train_data = datasets.FashionMNIST(root='image', \n",
    "                                    train=True, \n",
    "                                    download=True,\n",
    "                                    transform=ToTensor()\n",
    ")\n",
    "test_data = datasets.FashionMNIST(root='image', \n",
    "                                    train=False, \n",
    "                                    download=True, \n",
    "                                    transform=ToTensor()\n",
    ")"
   ]
  },
  {
   "cell_type": "code",
   "execution_count": 3,
   "metadata": {},
   "outputs": [
    {
     "data": {
      "text/plain": [
       "('Ankle boot', torch.Size([1, 28, 28]), torch.Size([28, 28, 1]))"
      ]
     },
     "execution_count": 3,
     "metadata": {},
     "output_type": "execute_result"
    }
   ],
   "source": [
    "img, lab = train_data[0]\n",
    "class_names = train_data.classes\n",
    "\n",
    "class_names[lab], img.shape, img.permute(1, 2, 0).shape\n",
    "#matplotlib在畫圖時，希望我們顏色通道的維度，放在最後一個\n",
    "#藉由permute可改變維度，想要把新的第零個維度，設定成舊的第幾個維度，就把它寫在第一個參數"
   ]
  },
  {
   "cell_type": "code",
   "execution_count": 4,
   "metadata": {},
   "outputs": [
    {
     "data": {
      "text/plain": [
       "['T-shirt/top',\n",
       " 'Trouser',\n",
       " 'Pullover',\n",
       " 'Dress',\n",
       " 'Coat',\n",
       " 'Sandal',\n",
       " 'Shirt',\n",
       " 'Sneaker',\n",
       " 'Bag',\n",
       " 'Ankle boot']"
      ]
     },
     "execution_count": 4,
     "metadata": {},
     "output_type": "execute_result"
    }
   ],
   "source": [
    "class_names"
   ]
  },
  {
   "cell_type": "code",
   "execution_count": 5,
   "metadata": {},
   "outputs": [
    {
     "data": {
      "text/plain": [
       "Text(0.5, 1.0, 'Ankle boot')"
      ]
     },
     "execution_count": 5,
     "metadata": {},
     "output_type": "execute_result"
    },
    {
     "data": {
      "image/png": "[encoded data removed]",
      "text/plain": [
       "<Figure size 640x480 with 1 Axes>"
      ]
     },
     "metadata": {},
     "output_type": "display_data"
    }
   ],
   "source": [
    "random_idx = random.randint(0, len(train_data)-1)\n",
    "img, lab = train_data[random_idx]\n",
    "plt.imshow(img.permute(1, 2, 0))\n",
    "plt.title(class_names[lab])"
   ]
  },
  {
   "cell_type": "code",
   "execution_count": 6,
   "metadata": {},
   "outputs": [
    {
     "data": {
      "text/plain": [
       "(1875, 313)"
      ]
     },
     "execution_count": 6,
     "metadata": {},
     "output_type": "execute_result"
    }
   ],
   "source": [
    "BATCH_SIZE = 32\n",
    "\n",
    "train_dataloader = DataLoader(train_data, \n",
    "                                batch_size=BATCH_SIZE,\n",
    "                                shuffle=True)\n",
    "test_dataloader = DataLoader(test_data, \n",
    "                                batch_size=BATCH_SIZE,\n",
    "                                shuffle=False)\n",
    "len(train_dataloader), len(test_dataloader)\n",
    "\n",
    "#DataLoader將對資料進行分批處理\n",
    "#shuffle則進行打亂的動作"
   ]
  },
  {
   "cell_type": "code",
   "execution_count": 7,
   "metadata": {},
   "outputs": [
    {
     "data": {
      "text/plain": [
       "(60000, 10016)"
      ]
     },
     "execution_count": 7,
     "metadata": {},
     "output_type": "execute_result"
    }
   ],
   "source": [
    "1875*32, 313*32"
   ]
  },
  {
   "cell_type": "code",
   "execution_count": 8,
   "metadata": {},
   "outputs": [
    {
     "data": {
      "text/plain": [
       "(torch.Size([32, 1, 28, 28]), torch.Size([32]))"
      ]
     },
     "execution_count": 8,
     "metadata": {},
     "output_type": "execute_result"
    }
   ],
   "source": [
    "#DataLoader允許使用疊代\n",
    "x_first_batch, y_first_batch = next(iter(train_dataloader))\n",
    "x_first_batch.shape, y_first_batch.shape"
   ]
  },
  {
   "cell_type": "code",
   "execution_count": 9,
   "metadata": {},
   "outputs": [
    {
     "data": {
      "text/plain": [
       "torch.Size([1, 28, 28])"
      ]
     },
     "execution_count": 9,
     "metadata": {},
     "output_type": "execute_result"
    },
    {
     "data": {
      "image/png": "[encoded data removed]",
      "text/plain": [
       "<Figure size 640x480 with 1 Axes>"
      ]
     },
     "metadata": {},
     "output_type": "display_data"
    }
   ],
   "source": [
    "random_idx = random.randint(0, len(x_first_batch)-1)\n",
    "img, lab = x_first_batch[random_idx], y_first_batch[random_idx]\n",
    "\n",
    "plt.imshow(img.permute(1, 2, 0))\n",
    "plt.title(class_names[lab])\n",
    "x_first_batch[random_idx].shape"
   ]
  },
  {
   "cell_type": "code",
   "execution_count": 10,
   "metadata": {},
   "outputs": [
    {
     "data": {
      "text/plain": [
       "torch.Size([1, 28, 28])"
      ]
     },
     "execution_count": 10,
     "metadata": {},
     "output_type": "execute_result"
    }
   ],
   "source": [
    "x_first_batch[0].shape"
   ]
  },
  {
   "cell_type": "code",
   "execution_count": 11,
   "metadata": {},
   "outputs": [
    {
     "data": {
      "text/plain": [
       "torch.Size([784])"
      ]
     },
     "execution_count": 11,
     "metadata": {},
     "output_type": "execute_result"
    }
   ],
   "source": [
    "#當圖片要進行模型訓練時要先進行攤平的動作\n",
    "flatten = nn.Flatten(start_dim=0, end_dim=-1)#-1代表最後一個\n",
    "flatten(x_first_batch[0]).shape"
   ]
  },
  {
   "cell_type": "code",
   "execution_count": 12,
   "metadata": {},
   "outputs": [],
   "source": [
    "class ImageClassificationModel(nn.Module):\n",
    "    def __init__(self, input_shape, output_shape):\n",
    "        super().__init__()\n",
    "        self.layer_stack = nn.Sequential(\n",
    "            nn.Flatten(start_dim=1, end_dim=-1), \n",
    "            nn.Linear(in_features=input_shape, out_features=output_shape)\n",
    "        )\n",
    "    def forward(self, x):\n",
    "        return self.layer_stack(x)"
   ]
  },
  {
   "cell_type": "code",
   "execution_count": 13,
   "metadata": {},
   "outputs": [
    {
     "data": {
      "text/plain": [
       "(torch.Size([32, 1, 28, 28]), torch.Size([32]))"
      ]
     },
     "execution_count": 13,
     "metadata": {},
     "output_type": "execute_result"
    }
   ],
   "source": [
    "#通常在進行訓練時會一個一個batch訓練\n",
    "x_first_batch, y_first_batch = next(iter(train_dataloader))\n",
    "x_first_batch.shape, y_first_batch.shape"
   ]
  },
  {
   "cell_type": "code",
   "execution_count": 14,
   "metadata": {},
   "outputs": [
    {
     "data": {
      "text/plain": [
       "OrderedDict([('layer_stack.1.weight',\n",
       "              tensor([[-0.0355,  0.0281, -0.0032,  ..., -0.0253,  0.0329, -0.0172],\n",
       "                      [-0.0108, -0.0178,  0.0132,  ...,  0.0324, -0.0354,  0.0180],\n",
       "                      [-0.0197,  0.0092,  0.0163,  ..., -0.0204,  0.0296, -0.0310],\n",
       "                      ...,\n",
       "                      [ 0.0022,  0.0250, -0.0206,  ...,  0.0313,  0.0052, -0.0215],\n",
       "                      [ 0.0283,  0.0323,  0.0323,  ...,  0.0146, -0.0040,  0.0086],\n",
       "                      [ 0.0243,  0.0077, -0.0030,  ...,  0.0065,  0.0205,  0.0202]])),\n",
       "             ('layer_stack.1.bias',\n",
       "              tensor([ 0.0099,  0.0330,  0.0156, -0.0259,  0.0210, -0.0344, -0.0287,  0.0027,\n",
       "                      -0.0189,  0.0245]))])"
      ]
     },
     "execution_count": 14,
     "metadata": {},
     "output_type": "execute_result"
    }
   ],
   "source": [
    "torch.manual_seed(87)\n",
    "model = ImageClassificationModel(28*28, 10)\n",
    "model.state_dict()"
   ]
  },
  {
   "cell_type": "code",
   "execution_count": 15,
   "metadata": {},
   "outputs": [
    {
     "name": "stdout",
     "output_type": "stream",
     "text": [
      "tensor(2.3343, grad_fn=<NllLossBackward0>)\n",
      "OrderedDict([('layer_stack.1.weight', tensor([[-0.0355,  0.0281, -0.0032,  ..., -0.0253,  0.0329, -0.0172],\n",
      "        [-0.0108, -0.0178,  0.0132,  ...,  0.0324, -0.0354,  0.0180],\n",
      "        [-0.0197,  0.0092,  0.0163,  ..., -0.0204,  0.0296, -0.0310],\n",
      "        ...,\n",
      "        [ 0.0022,  0.0250, -0.0206,  ...,  0.0313,  0.0052, -0.0215],\n",
      "        [ 0.0283,  0.0323,  0.0323,  ...,  0.0146, -0.0040,  0.0086],\n",
      "        [ 0.0243,  0.0077, -0.0030,  ...,  0.0065,  0.0205,  0.0202]])), ('layer_stack.1.bias', tensor([ 0.0099,  0.0330,  0.0156, -0.0259,  0.0210, -0.0344, -0.0287,  0.0027,\n",
      "        -0.0189,  0.0245]))])\n",
      "tensor(2.2877, grad_fn=<NllLossBackward0>)\n",
      "OrderedDict([('layer_stack.1.weight', tensor([[-0.0355,  0.0281, -0.0032,  ..., -0.0253,  0.0329, -0.0172],\n",
      "        [-0.0108, -0.0178,  0.0132,  ...,  0.0323, -0.0354,  0.0180],\n",
      "        [-0.0197,  0.0092,  0.0163,  ..., -0.0205,  0.0296, -0.0310],\n",
      "        ...,\n",
      "        [ 0.0022,  0.0250, -0.0206,  ...,  0.0312,  0.0052, -0.0215],\n",
      "        [ 0.0283,  0.0323,  0.0323,  ...,  0.0147, -0.0039,  0.0086],\n",
      "        [ 0.0243,  0.0077, -0.0030,  ...,  0.0064,  0.0205,  0.0202]])), ('layer_stack.1.bias', tensor([ 0.0103,  0.0327,  0.0150, -0.0251,  0.0208, -0.0343, -0.0288,  0.0027,\n",
      "        -0.0186,  0.0241]))])\n"
     ]
    }
   ],
   "source": [
    "cost_fn = nn.CrossEntropyLoss()\n",
    "#CrossEntropy不但會幫我們計算cost，還可以自動使用softmax，所以定義模型時，就不需要使用softmax\n",
    "y_pred = model(x_first_batch)\n",
    "cost = cost_fn(y_pred, y_first_batch)\n",
    "print(cost)\n",
    "print(model.state_dict())\n",
    "\n",
    "optimizer = torch.optim.SGD(params=model.parameters(), lr=0.01)\n",
    "optimizer.zero_grad()\n",
    "cost.backward()\n",
    "optimizer.step()\n",
    "\n",
    "y_pred = model(x_first_batch)\n",
    "cost = cost_fn(y_pred, y_first_batch)\n",
    "print(cost)\n",
    "print(model.state_dict())"
   ]
  },
  {
   "cell_type": "code",
   "execution_count": 16,
   "metadata": {},
   "outputs": [],
   "source": [
    "def accuracy_fn(y_pred, y_true):\n",
    "    correct_num = (y_pred==y_true).sum()\n",
    "    acc = correct_num / len(y_pred) * 100\n",
    "\n",
    "    return acc"
   ]
  },
  {
   "cell_type": "code",
   "execution_count": 17,
   "metadata": {},
   "outputs": [],
   "source": [
    "device = \"cuda\" if torch.cuda.is_available() else \"cpu\"\n",
    "model = model.to(device)"
   ]
  },
  {
   "cell_type": "code",
   "execution_count": 18,
   "metadata": {},
   "outputs": [],
   "source": [
    "def train_step(dataloader, model, cost_fn, optimizer, device):\n",
    "    train_cost = 0\n",
    "    train_acc = 0\n",
    "    for batch, (x, y) in enumerate(dataloader):# 每個batch分別訓練\n",
    "        x = x.to(device)\n",
    "        y = y.to(device)\n",
    "\n",
    "        model.train()\n",
    "\n",
    "        y_pred = model(x)\n",
    "\n",
    "        cost = cost_fn(y_pred, y)\n",
    "\n",
    "        train_cost += cost\n",
    "        train_acc +=accuracy_fn(y_pred.argmax(dim=1), y)\n",
    "\n",
    "        optimizer.zero_grad()\n",
    "        cost.backward()\n",
    "        optimizer.step()\n",
    "\n",
    "    train_cost /= len(dataloader)#train_cost = train_cost / len(train_dataloader)\n",
    "    train_acc /= len(dataloader)#做平均\n",
    "    print(f\"\\nTrain Cost: {train_cost:.4f}, Train Acc: {train_acc:.2f}\")\n",
    "\n",
    "\n",
    "def test_step(dataloader, model, cost_fn, device):\n",
    "    test_cost = 0\n",
    "    test_acc = 0\n",
    "    model.eval()\n",
    "    with torch.inference_mode():\n",
    "        for x, y in dataloader:\n",
    "            x = x.to(device)\n",
    "            y = y.to(device)\n",
    "\n",
    "            test_pred = model(x)\n",
    "\n",
    "            test_cost += cost_fn(test_pred, y)\n",
    "            test_acc += accuracy_fn(test_pred.argmax(dim=1), y)\n",
    "\n",
    "        test_cost /= len(dataloader)\n",
    "        test_acc /= len(dataloader)#做平均\n",
    "\n",
    "    print(f\"Test Cost: {test_cost:.4f}, Test Acc: {test_acc:.2f}\\n\")"
   ]
  },
  {
   "cell_type": "code",
   "execution_count": 19,
   "metadata": {},
   "outputs": [
    {
     "name": "stdout",
     "output_type": "stream",
     "text": [
      "Epoch: 0\n",
      "-------------\n",
      "\n",
      "Train Cost: 0.8187, Train Acc: 74.44\n",
      "Test Cost: 0.6519, Test Acc: 78.04\n",
      "\n",
      "Epoch: 1\n",
      "-------------\n",
      "\n",
      "Train Cost: 0.5891, Train Acc: 80.89\n",
      "Test Cost: 0.5801, Test Acc: 80.83\n",
      "\n",
      "Epoch: 2\n",
      "-------------\n",
      "\n",
      "Train Cost: 0.5400, Train Acc: 82.37\n",
      "Test Cost: 0.5481, Test Acc: 81.49\n",
      "\n",
      "Epoch: 3\n",
      "-------------\n",
      "\n",
      "Train Cost: 0.5138, Train Acc: 83.01\n",
      "Test Cost: 0.5290, Test Acc: 82.09\n",
      "\n",
      "Epoch: 4\n",
      "-------------\n",
      "\n",
      "Train Cost: 0.4966, Train Acc: 83.39\n",
      "Test Cost: 0.5172, Test Acc: 82.48\n",
      "\n",
      "Epoch: 5\n",
      "-------------\n",
      "\n",
      "Train Cost: 0.4839, Train Acc: 83.73\n",
      "Test Cost: 0.5091, Test Acc: 82.54\n",
      "\n",
      "Epoch: 6\n",
      "-------------\n",
      "\n",
      "Train Cost: 0.4740, Train Acc: 84.01\n",
      "Test Cost: 0.5000, Test Acc: 82.89\n",
      "\n",
      "Epoch: 7\n",
      "-------------\n",
      "\n",
      "Train Cost: 0.4667, Train Acc: 84.32\n",
      "Test Cost: 0.4935, Test Acc: 82.98\n",
      "\n",
      "Epoch: 8\n",
      "-------------\n",
      "\n",
      "Train Cost: 0.4603, Train Acc: 84.42\n",
      "Test Cost: 0.4900, Test Acc: 83.04\n",
      "\n",
      "Epoch: 9\n",
      "-------------\n",
      "\n",
      "Train Cost: 0.4549, Train Acc: 84.64\n",
      "Test Cost: 0.4838, Test Acc: 83.31\n",
      "\n"
     ]
    }
   ],
   "source": [
    "epochs = 10\n",
    "\n",
    "for epoch in range(epochs):\n",
    "    print(f'Epoch: {epoch}\\n-------------')\n",
    "\n",
    "    train_step(train_dataloader, model, cost_fn, optimizer, device)\n",
    "    test_step(test_dataloader, model, cost_fn, device)"
   ]
  },
  {
   "cell_type": "code",
   "execution_count": 20,
   "metadata": {},
   "outputs": [],
   "source": [
    "class ImageClassificationModel2(nn.Module):\n",
    "    def __init__(self, input_shape, output_shape):\n",
    "        super().__init__()\n",
    "        self.layer_stack = nn.Sequential(\n",
    "            nn.Flatten(start_dim=1, end_dim=-1), \n",
    "            nn.Linear(in_features=input_shape, out_features=5),\n",
    "            nn.ReLU(),\n",
    "            nn.Linear(in_features=5, out_features=8),\n",
    "            nn.ReLU(),\n",
    "            nn.Linear(in_features=8, out_features=output_shape),\n",
    "        )\n",
    "    def forward(self, x):\n",
    "        return self.layer_stack(x)"
   ]
  },
  {
   "cell_type": "code",
   "execution_count": 21,
   "metadata": {},
   "outputs": [],
   "source": [
    "model_2 = ImageClassificationModel2(28*28, 10)\n",
    "model_2.to(device)\n",
    "cost_fn = nn.CrossEntropyLoss()\n",
    "optimizer = torch.optim.SGD(params=model_2.parameters(), lr=0.01)"
   ]
  },
  {
   "cell_type": "code",
   "execution_count": 22,
   "metadata": {},
   "outputs": [
    {
     "name": "stdout",
     "output_type": "stream",
     "text": [
      "Epoch: 0\n",
      "-------------\n",
      "\n",
      "Train Cost: 1.5730, Train Acc: 41.95\n",
      "Test Cost: 0.8514, Test Acc: 64.86\n",
      "\n",
      "Epoch: 1\n",
      "-------------\n",
      "\n",
      "Train Cost: 0.7210, Train Acc: 73.08\n",
      "Test Cost: 0.6569, Test Acc: 76.76\n",
      "\n",
      "Epoch: 2\n",
      "-------------\n",
      "\n",
      "Train Cost: 0.6000, Train Acc: 78.93\n",
      "Test Cost: 0.5971, Test Acc: 78.39\n",
      "\n",
      "Epoch: 3\n",
      "-------------\n",
      "\n",
      "Train Cost: 0.5554, Train Acc: 80.64\n",
      "Test Cost: 0.5753, Test Acc: 80.03\n",
      "\n",
      "Epoch: 4\n",
      "-------------\n",
      "\n",
      "Train Cost: 0.5306, Train Acc: 81.69\n",
      "Test Cost: 0.5627, Test Acc: 80.42\n",
      "\n",
      "Epoch: 5\n",
      "-------------\n",
      "\n",
      "Train Cost: 0.5168, Train Acc: 82.14\n",
      "Test Cost: 0.5629, Test Acc: 80.46\n",
      "\n",
      "Epoch: 6\n",
      "-------------\n",
      "\n",
      "Train Cost: 0.5062, Train Acc: 82.41\n",
      "Test Cost: 0.5232, Test Acc: 81.74\n",
      "\n",
      "Epoch: 7\n",
      "-------------\n",
      "\n",
      "Train Cost: 0.4970, Train Acc: 82.82\n",
      "Test Cost: 0.5377, Test Acc: 80.72\n",
      "\n",
      "Epoch: 8\n",
      "-------------\n",
      "\n",
      "Train Cost: 0.4901, Train Acc: 83.01\n",
      "Test Cost: 0.5230, Test Acc: 81.88\n",
      "\n",
      "Epoch: 9\n",
      "-------------\n",
      "\n",
      "Train Cost: 0.4853, Train Acc: 83.07\n",
      "Test Cost: 0.5138, Test Acc: 82.26\n",
      "\n"
     ]
    }
   ],
   "source": [
    "epochs = 10\n",
    "\n",
    "for epoch in range(epochs):\n",
    "    print(f'Epoch: {epoch}\\n-------------')\n",
    "\n",
    "    train_step(train_dataloader, model_2, cost_fn, optimizer, device)\n",
    "    test_step(test_dataloader, model_2, cost_fn, device)"
   ]
  },
  {
   "cell_type": "markdown",
   "metadata": {},
   "source": [
    "### 進行模型評估"
   ]
  },
  {
   "cell_type": "code",
   "execution_count": 23,
   "metadata": {},
   "outputs": [],
   "source": [
    "def eval_model(dataloader, model, cost_fn, accuracy_fn, device):\n",
    "    test_cost = 0\n",
    "    test_acc = 0\n",
    "    model.eval()\n",
    "    with torch.inference_mode():\n",
    "        for x, y in dataloader:\n",
    "            x = x.to(device)\n",
    "            y = y.to(device)\n",
    "\n",
    "            test_pred = model(x)\n",
    "\n",
    "            test_cost += cost_fn(test_pred, y)\n",
    "            test_acc += accuracy_fn(test_pred.argmax(dim=1), y)\n",
    "\n",
    "        test_cost /= len(dataloader)\n",
    "        test_acc /= len(dataloader)#做平均\n",
    "\n",
    "    return {\n",
    "        \"model_name\": model.__class__.__name__,\n",
    "        \"model_cost\": test_cost.item(),\n",
    "        \"model_acc\": test_acc.item()\n",
    "        #item幫我們把tensor格式中的單一數字取出來\n",
    "    }"
   ]
  },
  {
   "cell_type": "code",
   "execution_count": 24,
   "metadata": {},
   "outputs": [
    {
     "data": {
      "text/plain": [
       "{'model_name': 'ImageClassificationModel',\n",
       " 'model_cost': 0.4837796986103058,\n",
       " 'model_acc': 83.30670928955078}"
      ]
     },
     "execution_count": 24,
     "metadata": {},
     "output_type": "execute_result"
    }
   ],
   "source": [
    "model_1_result = eval_model(test_dataloader, model, cost_fn, accuracy_fn, device)\n",
    "model_1_result"
   ]
  },
  {
   "cell_type": "code",
   "execution_count": 25,
   "metadata": {},
   "outputs": [
    {
     "data": {
      "text/plain": [
       "{'model_name': 'ImageClassificationModel2',\n",
       " 'model_cost': 0.5137757658958435,\n",
       " 'model_acc': 82.25838470458984}"
      ]
     },
     "execution_count": 25,
     "metadata": {},
     "output_type": "execute_result"
    }
   ],
   "source": [
    "model_2_result = eval_model(test_dataloader, model_2, cost_fn, accuracy_fn, device)\n",
    "model_2_result"
   ]
  },
  {
   "cell_type": "markdown",
   "metadata": {},
   "source": [
    "### Underfitting(欠擬合)\n",
    "特性: 與訓練、測試資料的吻合程度有一段差距                                          \n",
    "解決方法: \n",
    "1. 增加學習率\n",
    "2. 訓練久一點\n",
    "3. 增加模型複雜度\n",
    "### Overfitting(過擬合)\n",
    "特性: 在訓練集上表現很好，但在測試集上表現欠佳                                       \n",
    "解決方法: \n",
    "1. 收集更多資料\n",
    "2. 簡化模型\n",
    "3. 提早停止訓練"
   ]
  },
  {
   "cell_type": "markdown",
   "metadata": {},
   "source": []
  },
  {
   "cell_type": "markdown",
   "metadata": {},
   "source": [
    "### 利用Convolutional Layer 卷積層，來搭建Convolutional Neural Network"
   ]
  },
  {
   "cell_type": "code",
   "execution_count": 26,
   "metadata": {},
   "outputs": [
    {
     "name": "stdout",
     "output_type": "stream",
     "text": [
      "torch.Size([8, 6, 6])\n"
     ]
    },
    {
     "data": {
      "text/plain": [
       "torch.Size([8, 2, 2])"
      ]
     },
     "execution_count": 26,
     "metadata": {},
     "output_type": "execute_result"
    }
   ],
   "source": [
    "conv_layer = nn.Conv2d(in_channels=1, out_channels=8, kernel_size=5*5, stride=1, padding=1)\n",
    "conv_output = conv_layer(x_first_batch[0])\n",
    "print(conv_output.shape)\n",
    "\n",
    "maxpool = nn.MaxPool2d(kernel_size=2*2, stride=2, padding=0)\n",
    "maxpool(conv_output).shape"
   ]
  },
  {
   "cell_type": "code",
   "execution_count": 27,
   "metadata": {},
   "outputs": [],
   "source": [
    "class ImageClassificationModel3(nn.Module):\n",
    "    def __init__(self, input_shape, output_shape):\n",
    "        super().__init__()\n",
    "        self.conv_block_1 = nn.Sequential(\n",
    "            nn.Conv2d(in_channels=input_shape, \n",
    "                        out_channels=8, \n",
    "                        kernel_size=(3, 3), \n",
    "                        stride=1, \n",
    "                        padding=1\n",
    "            ),\n",
    "            nn.ReLU(), \n",
    "            nn.Conv2d(in_channels=8, \n",
    "                        out_channels=8, \n",
    "                        kernel_size=(3, 3), \n",
    "                        stride=1,\n",
    "                        padding=1\n",
    "            ),\n",
    "            nn.ReLU(), \n",
    "            nn.MaxPool2d(kernel_size=(2, 2), \n",
    "                            stride=2, \n",
    "                            padding=0\n",
    "            )\n",
    "        )\n",
    "\n",
    "        self.conv_block_2 = nn.Sequential(\n",
    "            nn.Conv2d(in_channels=8, \n",
    "                        out_channels=16, \n",
    "                        kernel_size=(3, 3), \n",
    "                        stride=1, \n",
    "                        padding=1\n",
    "            ),\n",
    "            nn.ReLU(), \n",
    "            nn.Conv2d(in_channels=16, \n",
    "                        out_channels=16, \n",
    "                        kernel_size=(3, 3), \n",
    "                        stride=1,\n",
    "                        padding=1\n",
    "            ),\n",
    "            nn.ReLU(), \n",
    "            nn.MaxPool2d(kernel_size=(2, 2), \n",
    "                            stride=2, \n",
    "                            padding=0\n",
    "            )\n",
    "        )\n",
    "\n",
    "        self.classifier = nn.Sequential(\n",
    "            nn.Flatten(start_dim=1, end_dim=-1), # 不能從第零個維度開始攤平，因為第零個維度是batch的數量。\n",
    "            nn.Linear(in_features=16*7*7, out_features=output_shape)\n",
    "        )\n",
    "    def forward(self, x):\n",
    "        x = self.conv_block_1(x)\n",
    "        x = self.conv_block_2(x)\n",
    "        x = self.classifier(x)\n",
    "        return x"
   ]
  },
  {
   "cell_type": "code",
   "execution_count": 28,
   "metadata": {},
   "outputs": [],
   "source": [
    "model_3 = ImageClassificationModel3(1, 10)#通常灰階圖像的Channels只有一個。\n",
    "model_3.to(device)\n",
    "cost_fn = nn.CrossEntropyLoss()\n",
    "optimizer = torch.optim.SGD(params=model_3.parameters(), lr=0.01)"
   ]
  },
  {
   "cell_type": "code",
   "execution_count": 29,
   "metadata": {},
   "outputs": [
    {
     "name": "stdout",
     "output_type": "stream",
     "text": [
      "Epoch: 0\n",
      "-------------\n",
      "\n",
      "Train Cost: 1.2018, Train Acc: 55.72\n",
      "Test Cost: 0.6214, Test Acc: 77.68\n",
      "\n",
      "Epoch: 1\n",
      "-------------\n",
      "\n",
      "Train Cost: 0.5365, Train Acc: 80.49\n",
      "Test Cost: 0.5053, Test Acc: 81.86\n",
      "\n",
      "Epoch: 2\n",
      "-------------\n",
      "\n",
      "Train Cost: 0.4657, Train Acc: 83.36\n",
      "Test Cost: 0.4545, Test Acc: 83.93\n",
      "\n",
      "Epoch: 3\n",
      "-------------\n",
      "\n",
      "Train Cost: 0.4257, Train Acc: 84.70\n",
      "Test Cost: 0.5275, Test Acc: 79.57\n",
      "\n",
      "Epoch: 4\n",
      "-------------\n",
      "\n",
      "Train Cost: 0.3974, Train Acc: 85.94\n",
      "Test Cost: 0.4078, Test Acc: 85.30\n",
      "\n",
      "Epoch: 5\n",
      "-------------\n",
      "\n",
      "Train Cost: 0.3739, Train Acc: 86.75\n",
      "Test Cost: 0.3846, Test Acc: 86.43\n",
      "\n",
      "Epoch: 6\n",
      "-------------\n",
      "\n",
      "Train Cost: 0.3562, Train Acc: 87.37\n",
      "Test Cost: 0.3808, Test Acc: 86.45\n",
      "\n",
      "Epoch: 7\n",
      "-------------\n",
      "\n",
      "Train Cost: 0.3421, Train Acc: 87.89\n",
      "Test Cost: 0.3570, Test Acc: 87.40\n",
      "\n",
      "Epoch: 8\n",
      "-------------\n",
      "\n",
      "Train Cost: 0.3292, Train Acc: 88.19\n",
      "Test Cost: 0.3614, Test Acc: 87.32\n",
      "\n",
      "Epoch: 9\n",
      "-------------\n",
      "\n",
      "Train Cost: 0.3191, Train Acc: 88.70\n",
      "Test Cost: 0.3454, Test Acc: 87.76\n",
      "\n"
     ]
    }
   ],
   "source": [
    "epochs = 10\n",
    "\n",
    "for epoch in range(epochs):\n",
    "    print(f'Epoch: {epoch}\\n-------------')\n",
    "\n",
    "    train_step(train_dataloader, model_3, cost_fn, optimizer, device)\n",
    "    test_step(test_dataloader, model_3, cost_fn, device)"
   ]
  },
  {
   "cell_type": "code",
   "execution_count": 30,
   "metadata": {},
   "outputs": [
    {
     "data": {
      "text/plain": [
       "{'model_name': 'ImageClassificationModel',\n",
       " 'model_cost': 0.4837796986103058,\n",
       " 'model_acc': 83.30670928955078}"
      ]
     },
     "execution_count": 30,
     "metadata": {},
     "output_type": "execute_result"
    }
   ],
   "source": [
    "model_1_result = eval_model(test_dataloader, model, cost_fn, accuracy_fn, device)\n",
    "model_1_result"
   ]
  },
  {
   "cell_type": "code",
   "execution_count": 31,
   "metadata": {},
   "outputs": [
    {
     "data": {
      "text/plain": [
       "{'model_name': 'ImageClassificationModel2',\n",
       " 'model_cost': 0.5137757658958435,\n",
       " 'model_acc': 82.25838470458984}"
      ]
     },
     "execution_count": 31,
     "metadata": {},
     "output_type": "execute_result"
    }
   ],
   "source": [
    "model_2_result = eval_model(test_dataloader, model_2, cost_fn, accuracy_fn, device)\n",
    "model_2_result"
   ]
  },
  {
   "cell_type": "code",
   "execution_count": 32,
   "metadata": {},
   "outputs": [
    {
     "data": {
      "text/plain": [
       "{'model_name': 'ImageClassificationModel3',\n",
       " 'model_cost': 0.34544837474823,\n",
       " 'model_acc': 87.75958251953125}"
      ]
     },
     "execution_count": 32,
     "metadata": {},
     "output_type": "execute_result"
    }
   ],
   "source": [
    "model_3_result = eval_model(test_dataloader, model_3, cost_fn, accuracy_fn, device)\n",
    "model_3_result"
   ]
  }
 ],
 "metadata": {
  "kernelspec": {
   "display_name": "myenv",
   "language": "python",
   "name": "python3"
  },
  "language_info": {
   "codemirror_mode": {
    "name": "ipython",
    "version": 3
   },
   "file_extension": ".py",
   "mimetype": "text/x-python",
   "name": "python",
   "nbconvert_exporter": "python",
   "pygments_lexer": "ipython3",
   "version": "3.8.20"
  },
  "orig_nbformat": 4
 },
 "nbformat": 4,
 "nbformat_minor": 2
}
