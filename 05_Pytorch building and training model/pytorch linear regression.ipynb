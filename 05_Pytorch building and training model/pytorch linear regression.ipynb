{
 "cells": [
  {
   "cell_type": "code",
   "execution_count": 1,
   "metadata": {},
   "outputs": [
    {
     "data": {
      "text/html": [
       "<div>\n",
       "<style scoped>\n",
       "    .dataframe tbody tr th:only-of-type {\n",
       "        vertical-align: middle;\n",
       "    }\n",
       "\n",
       "    .dataframe tbody tr th {\n",
       "        vertical-align: top;\n",
       "    }\n",
       "\n",
       "    .dataframe thead th {\n",
       "        text-align: right;\n",
       "    }\n",
       "</style>\n",
       "<table border=\"1\" class=\"dataframe\">\n",
       "  <thead>\n",
       "    <tr style=\"text-align: right;\">\n",
       "      <th></th>\n",
       "      <th>YearsExperience</th>\n",
       "      <th>Salary</th>\n",
       "    </tr>\n",
       "  </thead>\n",
       "  <tbody>\n",
       "    <tr>\n",
       "      <th>0</th>\n",
       "      <td>0.3</td>\n",
       "      <td>36.2</td>\n",
       "    </tr>\n",
       "    <tr>\n",
       "      <th>1</th>\n",
       "      <td>0.6</td>\n",
       "      <td>36.6</td>\n",
       "    </tr>\n",
       "    <tr>\n",
       "      <th>2</th>\n",
       "      <td>0.8</td>\n",
       "      <td>42.8</td>\n",
       "    </tr>\n",
       "    <tr>\n",
       "      <th>3</th>\n",
       "      <td>1.1</td>\n",
       "      <td>39.3</td>\n",
       "    </tr>\n",
       "    <tr>\n",
       "      <th>4</th>\n",
       "      <td>1.3</td>\n",
       "      <td>46.2</td>\n",
       "    </tr>\n",
       "    <tr>\n",
       "      <th>5</th>\n",
       "      <td>1.5</td>\n",
       "      <td>37.7</td>\n",
       "    </tr>\n",
       "    <tr>\n",
       "      <th>6</th>\n",
       "      <td>2.0</td>\n",
       "      <td>43.5</td>\n",
       "    </tr>\n",
       "    <tr>\n",
       "      <th>7</th>\n",
       "      <td>2.2</td>\n",
       "      <td>39.8</td>\n",
       "    </tr>\n",
       "    <tr>\n",
       "      <th>8</th>\n",
       "      <td>2.9</td>\n",
       "      <td>56.6</td>\n",
       "    </tr>\n",
       "    <tr>\n",
       "      <th>9</th>\n",
       "      <td>3.0</td>\n",
       "      <td>60.1</td>\n",
       "    </tr>\n",
       "    <tr>\n",
       "      <th>10</th>\n",
       "      <td>3.2</td>\n",
       "      <td>54.4</td>\n",
       "    </tr>\n",
       "    <tr>\n",
       "      <th>11</th>\n",
       "      <td>3.2</td>\n",
       "      <td>64.4</td>\n",
       "    </tr>\n",
       "    <tr>\n",
       "      <th>12</th>\n",
       "      <td>3.7</td>\n",
       "      <td>57.1</td>\n",
       "    </tr>\n",
       "    <tr>\n",
       "      <th>13</th>\n",
       "      <td>3.9</td>\n",
       "      <td>63.2</td>\n",
       "    </tr>\n",
       "    <tr>\n",
       "      <th>14</th>\n",
       "      <td>4.0</td>\n",
       "      <td>55.7</td>\n",
       "    </tr>\n",
       "    <tr>\n",
       "      <th>15</th>\n",
       "      <td>4.0</td>\n",
       "      <td>56.9</td>\n",
       "    </tr>\n",
       "    <tr>\n",
       "      <th>16</th>\n",
       "      <td>4.1</td>\n",
       "      <td>57.0</td>\n",
       "    </tr>\n",
       "    <tr>\n",
       "      <th>17</th>\n",
       "      <td>4.5</td>\n",
       "      <td>61.1</td>\n",
       "    </tr>\n",
       "    <tr>\n",
       "      <th>18</th>\n",
       "      <td>4.9</td>\n",
       "      <td>67.9</td>\n",
       "    </tr>\n",
       "    <tr>\n",
       "      <th>19</th>\n",
       "      <td>5.1</td>\n",
       "      <td>66.0</td>\n",
       "    </tr>\n",
       "    <tr>\n",
       "      <th>20</th>\n",
       "      <td>5.3</td>\n",
       "      <td>83.0</td>\n",
       "    </tr>\n",
       "    <tr>\n",
       "      <th>21</th>\n",
       "      <td>5.9</td>\n",
       "      <td>81.3</td>\n",
       "    </tr>\n",
       "    <tr>\n",
       "      <th>22</th>\n",
       "      <td>6.0</td>\n",
       "      <td>93.9</td>\n",
       "    </tr>\n",
       "    <tr>\n",
       "      <th>23</th>\n",
       "      <td>6.8</td>\n",
       "      <td>91.7</td>\n",
       "    </tr>\n",
       "    <tr>\n",
       "      <th>24</th>\n",
       "      <td>7.1</td>\n",
       "      <td>98.2</td>\n",
       "    </tr>\n",
       "    <tr>\n",
       "      <th>25</th>\n",
       "      <td>7.9</td>\n",
       "      <td>101.3</td>\n",
       "    </tr>\n",
       "    <tr>\n",
       "      <th>26</th>\n",
       "      <td>8.2</td>\n",
       "      <td>113.8</td>\n",
       "    </tr>\n",
       "    <tr>\n",
       "      <th>27</th>\n",
       "      <td>8.7</td>\n",
       "      <td>109.4</td>\n",
       "    </tr>\n",
       "    <tr>\n",
       "      <th>28</th>\n",
       "      <td>9.0</td>\n",
       "      <td>105.5</td>\n",
       "    </tr>\n",
       "    <tr>\n",
       "      <th>29</th>\n",
       "      <td>9.5</td>\n",
       "      <td>116.9</td>\n",
       "    </tr>\n",
       "    <tr>\n",
       "      <th>30</th>\n",
       "      <td>9.6</td>\n",
       "      <td>112.6</td>\n",
       "    </tr>\n",
       "    <tr>\n",
       "      <th>31</th>\n",
       "      <td>10.3</td>\n",
       "      <td>122.3</td>\n",
       "    </tr>\n",
       "    <tr>\n",
       "      <th>32</th>\n",
       "      <td>10.5</td>\n",
       "      <td>121.8</td>\n",
       "    </tr>\n",
       "  </tbody>\n",
       "</table>\n",
       "</div>"
      ],
      "text/plain": [
       "    YearsExperience  Salary\n",
       "0               0.3    36.2\n",
       "1               0.6    36.6\n",
       "2               0.8    42.8\n",
       "3               1.1    39.3\n",
       "4               1.3    46.2\n",
       "5               1.5    37.7\n",
       "6               2.0    43.5\n",
       "7               2.2    39.8\n",
       "8               2.9    56.6\n",
       "9               3.0    60.1\n",
       "10              3.2    54.4\n",
       "11              3.2    64.4\n",
       "12              3.7    57.1\n",
       "13              3.9    63.2\n",
       "14              4.0    55.7\n",
       "15              4.0    56.9\n",
       "16              4.1    57.0\n",
       "17              4.5    61.1\n",
       "18              4.9    67.9\n",
       "19              5.1    66.0\n",
       "20              5.3    83.0\n",
       "21              5.9    81.3\n",
       "22              6.0    93.9\n",
       "23              6.8    91.7\n",
       "24              7.1    98.2\n",
       "25              7.9   101.3\n",
       "26              8.2   113.8\n",
       "27              8.7   109.4\n",
       "28              9.0   105.5\n",
       "29              9.5   116.9\n",
       "30              9.6   112.6\n",
       "31             10.3   122.3\n",
       "32             10.5   121.8"
      ]
     },
     "execution_count": 1,
     "metadata": {},
     "output_type": "execute_result"
    }
   ],
   "source": [
    "import pandas as pd\n",
    "\n",
    "data = pd.read_csv('Salary_Data.csv')\n",
    "x = data.loc[:, ['YearsExperience']]\n",
    "y = data.loc[:, ['Salary']]\n",
    "data"
   ]
  },
  {
   "cell_type": "code",
   "execution_count": 2,
   "metadata": {},
   "outputs": [],
   "source": [
    "from sklearn.model_selection import train_test_split\n",
    "import torch\n",
    "\n",
    "x_train, x_test, y_train, y_test = train_test_split(x, y, test_size=0.2, random_state=87)\n",
    "x_train = x_train.to_numpy()\n",
    "x_test = x_test.to_numpy()\n",
    "y_train = y_train.to_numpy()\n",
    "y_test = y_test.to_numpy()\n",
    "\n",
    "x_train = torch.from_numpy(x_train)\n",
    "x_test = torch.from_numpy(x_test)\n",
    "y_train = torch.from_numpy(y_train)\n",
    "y_test = torch.from_numpy(y_test)"
   ]
  },
  {
   "cell_type": "code",
   "execution_count": 3,
   "metadata": {},
   "outputs": [],
   "source": [
    "from torch import nn\n",
    "class LinearRegressionModel(nn.Module):\n",
    "    def __init__(self):\n",
    "        super().__init__()\n",
    "        self.w = nn.Parameter(torch.rand(1, requires_grad=True))\n",
    "        self.b = nn.Parameter(torch.rand(1, requires_grad=True))\n",
    "    \n",
    "    def forward(self, x):\n",
    "        return self.w * x + self.b"
   ]
  },
  {
   "cell_type": "code",
   "execution_count": 4,
   "metadata": {},
   "outputs": [
    {
     "data": {
      "text/plain": [
       "OrderedDict([('w', tensor([0.0036])), ('b', tensor([0.8931]))])"
      ]
     },
     "execution_count": 4,
     "metadata": {},
     "output_type": "execute_result"
    }
   ],
   "source": [
    "torch.manual_seed(87)\n",
    "model = LinearRegressionModel()\n",
    "# list(model.parameters())\n",
    "model.state_dict()"
   ]
  },
  {
   "cell_type": "code",
   "execution_count": 5,
   "metadata": {},
   "outputs": [
    {
     "data": {
      "text/plain": [
       "(tensor([[0.9149],\n",
       "         [0.9312],\n",
       "         [0.8953],\n",
       "         [0.9145],\n",
       "         [0.9279],\n",
       "         [0.9065],\n",
       "         [0.8978]], dtype=torch.float64, grad_fn=<AddBackward0>),\n",
       " tensor([[ 93.9000],\n",
       "         [121.8000],\n",
       "         [ 36.6000],\n",
       "         [ 81.3000],\n",
       "         [112.6000],\n",
       "         [ 57.1000],\n",
       "         [ 46.2000]], dtype=torch.float64))"
      ]
     },
     "execution_count": 5,
     "metadata": {},
     "output_type": "execute_result"
    }
   ],
   "source": [
    "y_pred = model(x_test)\n",
    "y_pred, y_test"
   ]
  },
  {
   "cell_type": "code",
   "execution_count": 6,
   "metadata": {},
   "outputs": [
    {
     "name": "stdout",
     "output_type": "stream",
     "text": [
      "tensor(5627.4383, dtype=torch.float64, grad_fn=<MseLossBackward0>)\n",
      "OrderedDict([('w', tensor([0.0036])), ('b', tensor([0.8931]))])\n",
      "\n",
      "\n",
      "tensor(944.6858, dtype=torch.float64, grad_fn=<MseLossBackward0>)\n",
      "OrderedDict([('w', tensor([8.1354])), ('b', tensor([2.2939]))])\n"
     ]
    }
   ],
   "source": [
    "cost_function = nn.MSELoss()\n",
    "y_pred = model(x_train)\n",
    "cost = cost_function(y_pred, y_train)\n",
    "print(cost)\n",
    "print(model.state_dict())\n",
    "print('\\n')\n",
    "\n",
    "optimizer = torch.optim.SGD(params=model.parameters(), lr=0.01)\n",
    "optimizer.zero_grad()\n",
    "cost.backward()\n",
    "optimizer.step()\n",
    "\n",
    "y_pred = model(x_train)\n",
    "cost = cost_function(y_pred, y_train)\n",
    "print(cost)\n",
    "print(model.state_dict())"
   ]
  },
  {
   "cell_type": "code",
   "execution_count": 7,
   "metadata": {},
   "outputs": [
    {
     "name": "stdout",
     "output_type": "stream",
     "text": [
      "Epoch:     0, Train Cost:  9.4469e+02, Test Cost:  3.5138e+02\n",
      "Epoch:  1000, Train Cost:  3.2599e+01, Test Cost:  3.4706e+01\n",
      "Epoch:  2000, Train Cost:  3.2594e+01, Test Cost:  3.4187e+01\n",
      "Epoch:  3000, Train Cost:  3.2594e+01, Test Cost:  3.4185e+01\n",
      "Epoch:  4000, Train Cost:  3.2594e+01, Test Cost:  3.4185e+01\n",
      "Epoch:  5000, Train Cost:  3.2594e+01, Test Cost:  3.4185e+01\n",
      "Epoch:  6000, Train Cost:  3.2594e+01, Test Cost:  3.4185e+01\n",
      "Epoch:  7000, Train Cost:  3.2594e+01, Test Cost:  3.4185e+01\n",
      "Epoch:  8000, Train Cost:  3.2594e+01, Test Cost:  3.4185e+01\n",
      "Epoch:  9000, Train Cost:  3.2594e+01, Test Cost:  3.4185e+01\n",
      "Epoch: 10000, Train Cost:  3.2594e+01, Test Cost:  3.4185e+01\n"
     ]
    }
   ],
   "source": [
    "epochs = 10000# epochs: 代表完整的把資料看過一遍\n",
    "\n",
    "train_cost_hist = []\n",
    "test_cost_hist = []\n",
    "\n",
    "for epoch in range(epochs + 1):\n",
    "    model.train()\n",
    "\n",
    "    train_pred = model(x_train)\n",
    "    train_cost = cost_function(train_pred, y_train)\n",
    "\n",
    "    train_cost_hist.append(train_cost.detach().numpy())# 因為train_cost_hist有追蹤梯度，所以要先detach()\n",
    "\n",
    "    optimizer.zero_grad()\n",
    "    train_cost.backward()\n",
    "    optimizer.step()\n",
    "\n",
    "    model.eval()\n",
    "    with torch.inference_mode():\n",
    "        test_pred = model(x_test)\n",
    "        test_cost = cost_function(test_pred, y_test)\n",
    "\n",
    "        test_cost_hist.append(test_cost.numpy())\n",
    "\n",
    "    if epoch%1000 == 0:\n",
    "        print(f\"Epoch: {epoch:5}, Train Cost: {train_cost: .4e}, Test Cost: {test_cost: .4e}\")"
   ]
  },
  {
   "cell_type": "code",
   "execution_count": 8,
   "metadata": {},
   "outputs": [
    {
     "data": {
      "image/png": "[encoded data removed]",
      "text/plain": [
       "<Figure size 640x480 with 1 Axes>"
      ]
     },
     "metadata": {},
     "output_type": "display_data"
    }
   ],
   "source": [
    "import matplotlib.pyplot as plt\n",
    "plt.plot(range(0, epochs + 1), train_cost_hist, label='train cost')\n",
    "plt.plot(range(0, epochs + 1), test_cost_hist, label='test cost')\n",
    "plt.title(\"train & test cost\")\n",
    "plt.xlabel(\"epochs\")\n",
    "plt.ylabel(\"cost\")\n",
    "plt.show()"
   ]
  },
  {
   "cell_type": "code",
   "execution_count": 9,
   "metadata": {},
   "outputs": [
    {
     "name": "stdout",
     "output_type": "stream",
     "text": [
      "OrderedDict([('w', tensor([9.3308])), ('b', tensor([26.6287]))])\n",
      "\n",
      "\n",
      "Parameter containing:\n",
      "tensor([9.3308], requires_grad=True) Parameter containing:\n",
      "tensor([26.6287], requires_grad=True)\n"
     ]
    }
   ],
   "source": [
    "print(model.state_dict())\n",
    "\n",
    "print('\\n')\n",
    "\n",
    "print(model.w, model.b)"
   ]
  },
  {
   "cell_type": "code",
   "execution_count": 10,
   "metadata": {},
   "outputs": [
    {
     "data": {
      "text/plain": [
       "(tensor([[ 82.6135],\n",
       "         [124.6020],\n",
       "         [ 32.2271],\n",
       "         [ 81.6804],\n",
       "         [116.2043],\n",
       "         [ 61.1526],\n",
       "         [ 38.7587]], dtype=torch.float64),\n",
       " tensor([[ 93.9000],\n",
       "         [121.8000],\n",
       "         [ 36.6000],\n",
       "         [ 81.3000],\n",
       "         [112.6000],\n",
       "         [ 57.1000],\n",
       "         [ 46.2000]], dtype=torch.float64))"
      ]
     },
     "execution_count": 10,
     "metadata": {},
     "output_type": "execute_result"
    }
   ],
   "source": [
    "model.eval()\n",
    "with torch.inference_mode():\n",
    "    y_pred = model(x_test)\n",
    "y_pred, y_test"
   ]
  },
  {
   "cell_type": "code",
   "execution_count": 11,
   "metadata": {},
   "outputs": [],
   "source": [
    "torch.save(obj=model.state_dict(), f='model/pytorch_linear_regression.pth')"
   ]
  },
  {
   "cell_type": "code",
   "execution_count": 12,
   "metadata": {},
   "outputs": [
    {
     "data": {
      "text/plain": [
       "OrderedDict([('w', tensor([0.4548])), ('b', tensor([0.9815]))])"
      ]
     },
     "execution_count": 12,
     "metadata": {},
     "output_type": "execute_result"
    }
   ],
   "source": [
    "model_1 = LinearRegressionModel()\n",
    "model_1.state_dict()"
   ]
  },
  {
   "cell_type": "code",
   "execution_count": 13,
   "metadata": {},
   "outputs": [
    {
     "data": {
      "text/plain": [
       "OrderedDict([('w', tensor([9.3308])), ('b', tensor([26.6287]))])"
      ]
     },
     "execution_count": 13,
     "metadata": {},
     "output_type": "execute_result"
    }
   ],
   "source": [
    "model_1.load_state_dict(torch.load(f='model/pytorch_linear_regression.pth'))\n",
    "model_1.state_dict()"
   ]
  },
  {
   "cell_type": "code",
   "execution_count": 14,
   "metadata": {},
   "outputs": [
    {
     "data": {
      "text/plain": [
       "(tensor([[ 82.6135],\n",
       "         [124.6020],\n",
       "         [ 32.2271],\n",
       "         [ 81.6804],\n",
       "         [116.2043],\n",
       "         [ 61.1526],\n",
       "         [ 38.7587]], dtype=torch.float64),\n",
       " tensor([[ 93.9000],\n",
       "         [121.8000],\n",
       "         [ 36.6000],\n",
       "         [ 81.3000],\n",
       "         [112.6000],\n",
       "         [ 57.1000],\n",
       "         [ 46.2000]], dtype=torch.float64))"
      ]
     },
     "execution_count": 14,
     "metadata": {},
     "output_type": "execute_result"
    }
   ],
   "source": [
    "model_1.eval()\n",
    "with torch.inference_mode():\n",
    "    y_pred = model_1(x_test)\n",
    "y_pred, y_test"
   ]
  },
  {
   "cell_type": "markdown",
   "metadata": {},
   "source": [
    "### 法二:利用nn.Linear以及將訓練，測試步驟寫成函式"
   ]
  },
  {
   "cell_type": "code",
   "execution_count": 15,
   "metadata": {},
   "outputs": [],
   "source": [
    "class LinearRegressionModel2(nn.Module):\n",
    "    def __init__(self):\n",
    "        super().__init__()\n",
    "        self.linear_layer = nn.Linear(in_features=1, out_features=1, dtype=torch.float64)# 記得先進行型態的轉換\n",
    "        # self.w = nn.Parameter(torch.rand(1, requires_grad=True))\n",
    "        # self.b = nn.Parameter(torch.rand(1, requires_grad=True))\n",
    "\n",
    "    def forward(self, x):\n",
    "        return self.linear_layer(x)\n",
    "        # return self.w * x + self.b"
   ]
  },
  {
   "cell_type": "code",
   "execution_count": 16,
   "metadata": {},
   "outputs": [
    {
     "data": {
      "text/plain": [
       "(LinearRegressionModel2(\n",
       "   (linear_layer): Linear(in_features=1, out_features=1, bias=True)\n",
       " ),\n",
       " OrderedDict([('linear_layer.weight',\n",
       "               tensor([[-0.9419]], dtype=torch.float64)),\n",
       "              ('linear_layer.bias', tensor([0.2761], dtype=torch.float64))]))"
      ]
     },
     "execution_count": 16,
     "metadata": {},
     "output_type": "execute_result"
    }
   ],
   "source": [
    "torch.manual_seed(87)\n",
    "model_2 = LinearRegressionModel2()\n",
    "model_2, model_2.state_dict()"
   ]
  },
  {
   "cell_type": "code",
   "execution_count": 17,
   "metadata": {},
   "outputs": [],
   "source": [
    "x_train = x_train.reshape(-1, 1)\n",
    "x_test = x_test.reshape(-1, 1)\n",
    "y_train = y_train.reshape(-1, 1)\n",
    "y_test = y_test.reshape(-1, 1)\n",
    "# -1代表自動轉換"
   ]
  },
  {
   "cell_type": "code",
   "execution_count": 18,
   "metadata": {},
   "outputs": [
    {
     "data": {
      "text/plain": [
       "(torch.float64, torch.float64)"
      ]
     },
     "execution_count": 18,
     "metadata": {},
     "output_type": "execute_result"
    }
   ],
   "source": [
    "x_train.dtype, model_2.linear_layer.weight.dtype# 檢查型態是否一致"
   ]
  },
  {
   "cell_type": "code",
   "execution_count": 19,
   "metadata": {},
   "outputs": [
    {
     "name": "stdout",
     "output_type": "stream",
     "text": [
      "tensor(6515.9517, dtype=torch.float64, grad_fn=<MseLossBackward0>)\n",
      "OrderedDict([('linear_layer.weight', tensor([[-0.9419]], dtype=torch.float64)), ('linear_layer.bias', tensor([0.2761], dtype=torch.float64))])\n",
      "\n",
      "\n",
      "tensor(1074.6975, dtype=torch.float64, grad_fn=<MseLossBackward0>)\n",
      "OrderedDict([('linear_layer.weight', tensor([[7.8250]], dtype=torch.float64)), ('linear_layer.bias', tensor([1.7790], dtype=torch.float64))])\n"
     ]
    }
   ],
   "source": [
    "cost_function = nn.MSELoss()\n",
    "y_pred = model_2(x_train)\n",
    "cost = cost_function(y_pred, y_train)\n",
    "print(cost)\n",
    "print(model_2.state_dict())\n",
    "print('\\n')\n",
    "\n",
    "optimizer = torch.optim.SGD(params=model_2.parameters(), lr=0.01)\n",
    "optimizer.zero_grad()\n",
    "cost.backward()\n",
    "optimizer.step()\n",
    "\n",
    "y_pred = model_2(x_train)\n",
    "cost = cost_function(y_pred, y_train)\n",
    "print(cost)\n",
    "print(model_2.state_dict())"
   ]
  },
  {
   "cell_type": "code",
   "execution_count": 20,
   "metadata": {},
   "outputs": [],
   "source": [
    "def train_step(model, x_train, y_train, cost_function, optimizer, train_cost_hist):\n",
    "    train_cost_hist = []\n",
    "    model_2.train()\n",
    "\n",
    "    train_pred = model_2(x_train)\n",
    "    train_cost = cost_function(train_pred, y_train)\n",
    "\n",
    "    train_cost_hist.append(train_cost.detach().numpy())# 因為train_cost_hist有追蹤梯度，所以要先detach()\n",
    "\n",
    "    optimizer.zero_grad()\n",
    "    train_cost.backward()\n",
    "    optimizer.step()\n",
    "\n",
    "    return train_cost\n",
    "\n",
    "\n",
    "def test_step(model, x_test, y_test, cost_function, test_cost_hist):\n",
    "    test_cost_hist = []\n",
    "\n",
    "    model.eval()\n",
    "    with torch.inference_mode():\n",
    "        test_pred = model_2(x_test)\n",
    "        test_cost = cost_function(test_pred, y_test)\n",
    "\n",
    "        test_cost_hist.append(test_cost)\n",
    "\n",
    "    return test_cost"
   ]
  },
  {
   "cell_type": "code",
   "execution_count": 21,
   "metadata": {},
   "outputs": [
    {
     "name": "stdout",
     "output_type": "stream",
     "text": [
      "Epoch:     0, Train Cost:  1.0747e+03, Test Cost:  3.7437e+02\n",
      "Epoch:  1000, Train Cost:  3.0676e+02, Test Cost:  2.9140e+02\n",
      "Epoch:  2000, Train Cost:  1.9727e+02, Test Cost:  2.9270e+02\n",
      "Epoch:  3000, Train Cost:  1.8057e+02, Test Cost:  2.9651e+02\n",
      "Epoch:  4000, Train Cost:  1.7695e+02, Test Cost:  2.9718e+02\n",
      "Epoch:  5000, Train Cost:  1.7519e+02, Test Cost:  2.9611e+02\n",
      "Epoch:  6000, Train Cost:  1.7371e+02, Test Cost:  2.9433e+02\n",
      "Epoch:  7000, Train Cost:  1.7227e+02, Test Cost:  2.9229e+02\n",
      "Epoch:  8000, Train Cost:  1.7086e+02, Test Cost:  2.9015e+02\n",
      "Epoch:  9000, Train Cost:  1.6946e+02, Test Cost:  2.8800e+02\n",
      "Epoch: 10000, Train Cost:  1.6807e+02, Test Cost:  2.8585e+02\n"
     ]
    }
   ],
   "source": [
    "epochs = 10000# epochs: 代表完整的把資料看過一遍\n",
    "\n",
    "for epoch in range(epochs + 1):\n",
    "    train_cost_hist = []\n",
    "    test_cost_hist = []\n",
    "    \n",
    "    if epoch%1000 == 0:\n",
    "        print(f\"Epoch: {epoch:5}, Train Cost: {train_step(model_2, x_train, y_train, cost_function, optimizer, train_cost_hist): .4e}, Test Cost: {test_step(model_2, x_test, y_test, cost_function, test_cost_hist): .4e}\")"
   ]
  },
  {
   "cell_type": "code",
   "execution_count": 22,
   "metadata": {},
   "outputs": [
    {
     "data": {
      "text/plain": [
       "OrderedDict([('linear_layer.weight', tensor([[12.8993]], dtype=torch.float64)),\n",
       "             ('linear_layer.bias', tensor([3.9157], dtype=torch.float64))])"
      ]
     },
     "execution_count": 22,
     "metadata": {},
     "output_type": "execute_result"
    }
   ],
   "source": [
    "model_2.state_dict()"
   ]
  },
  {
   "cell_type": "markdown",
   "metadata": {},
   "source": [
    "### 在GPU上面執行，可以讓運算加速"
   ]
  },
  {
   "cell_type": "code",
   "execution_count": 23,
   "metadata": {},
   "outputs": [
    {
     "name": "stdout",
     "output_type": "stream",
     "text": [
      "Tue Feb 11 08:59:03 2025       \n",
      "+-----------------------------------------------------------------------------------------+\n",
      "| NVIDIA-SMI 566.36                 Driver Version: 566.36         CUDA Version: 12.7     |\n",
      "|-----------------------------------------+------------------------+----------------------+\n",
      "| GPU  Name                  Driver-Model | Bus-Id          Disp.A | Volatile Uncorr. ECC |\n",
      "| Fan  Temp   Perf          Pwr:Usage/Cap |           Memory-Usage | GPU-Util  Compute M. |\n",
      "|                                         |                        |               MIG M. |\n",
      "|=========================================+========================+======================|\n",
      "|   0  NVIDIA GeForce GTX 1650      WDDM  |   00000000:01:00.0 Off |                  N/A |\n",
      "| N/A   40C    P0             13W /   50W |       0MiB /   4096MiB |      0%      Default |\n",
      "|                                         |                        |                  N/A |\n",
      "+-----------------------------------------+------------------------+----------------------+\n",
      "                                                                                         \n",
      "+-----------------------------------------------------------------------------------------+\n",
      "| Processes:                                                                              |\n",
      "|  GPU   GI   CI        PID   Type   Process name                              GPU Memory |\n",
      "|        ID   ID                                                               Usage      |\n",
      "|=========================================================================================|\n",
      "|  No running processes found                                                             |\n",
      "+-----------------------------------------------------------------------------------------+\n"
     ]
    }
   ],
   "source": [
    "!nvidia-smi"
   ]
  },
  {
   "cell_type": "code",
   "execution_count": 24,
   "metadata": {},
   "outputs": [
    {
     "data": {
      "text/plain": [
       "False"
      ]
     },
     "execution_count": 24,
     "metadata": {},
     "output_type": "execute_result"
    }
   ],
   "source": [
    "torch.cuda.is_available()"
   ]
  }
 ],
 "metadata": {
  "kernelspec": {
   "display_name": "myenv",
   "language": "python",
   "name": "python3"
  },
  "language_info": {
   "codemirror_mode": {
    "name": "ipython",
    "version": 3
   },
   "file_extension": ".py",
   "mimetype": "text/x-python",
   "name": "python",
   "nbconvert_exporter": "python",
   "pygments_lexer": "ipython3",
   "version": "3.8.20"
  },
  "orig_nbformat": 4
 },
 "nbformat": 4,
 "nbformat_minor": 2
}
